{
 "cells": [
  {
   "cell_type": "markdown",
   "id": "39a41b9a",
   "metadata": {},
   "source": [
    "# Entity Extraction"
   ]
  },
  {
   "cell_type": "markdown",
   "id": "f11f3c17",
   "metadata": {},
   "source": [
    "This tutorial demonstrates how to perform entity extraction using the CoNLL-2003 dataset with DSPy. The focus is on extracting entities referring to people. We will:\n",
    "\n",
    "* Extract and label entities from the CoNLL-2003 dataset that refer to people\n",
    "* Define a DSPy program for extracting entities that refer to people\n",
    "* Optimize and evaluate the program on a subset of the CoNLL-2003 dataset\n",
    "\n",
    "By the end of this tutorial, you'll understand how to structure tasks in DSPy using signatures and modules, evaluate your system's performance, and improve its quality with optimizers."
   ]
  },
  {
   "cell_type": "markdown",
   "id": "e8f55f25",
   "metadata": {},
   "source": [
    "## Load and Prepare the Dataset\n",
    "\n",
    "In this section, we prepare the CoNLL-2003 dataset, which is commonly used for entity extraction tasks. The dataset includes tokens annotated with entity labels such as persons, organizations, and locations.\n",
    "\n",
    "We will:\n",
    "\n",
    "1. Load the dataset using the Hugging Face datasets library.\n",
    "2. Define a function to extract tokens referring to people.\n",
    "3. Slice the dataset to create smaller subsets for training and testing.\n",
    "\n",
    "DSPy expects examples in a structured format, so we'll also transform the dataset into DSPy Examples for easy integration."
   ]
  },
  {
   "cell_type": "code",
   "execution_count": 1,
   "id": "914e7828",
   "metadata": {},
   "outputs": [],
   "source": [
    "import os\n",
    "import tempfile\n",
    "from datasets import load_dataset\n",
    "from typing import Dict, Any, List\n",
    "import dspy\n",
    "\n",
    "def load_conll_dataset() -> dict:\n",
    "    \"\"\"\n",
    "    Loads the CoNLL-2003 dataset into train, validation, and test splits.\n",
    "    \n",
    "    Returns:\n",
    "        dict: Dataset splits with keys 'train', 'validation', and 'test'.\n",
    "    \"\"\"\n",
    "    with tempfile.TemporaryDirectory() as temp_dir:\n",
    "        # Use a temporary Hugging Face cache directory for compatibility with certain hosted notebook\n",
    "        # environments that don't support the default Hugging Face cache directory\n",
    "        os.environ[\"HF_DATASETS_CACHE\"] = temp_dir\n",
    "        return load_dataset(\"conll2003\", trust_remote_code=True)\n",
    "\n",
    "def extract_people_entities(data_row: Dict[str, Any]) -> List[str]:\n",
    "    \"\"\"\n",
    "    Extracts entities referring to people from a row of the CoNLL-2003 dataset.\n",
    "    \n",
    "    Args:\n",
    "        data_row (Dict[str, Any]): A row from the dataset containing tokens and NER tags.\n",
    "    \n",
    "    Returns:\n",
    "        List[str]: List of tokens tagged as people.\n",
    "    \"\"\"\n",
    "    return [\n",
    "        token\n",
    "        for token, ner_tag in zip(data_row[\"tokens\"], data_row[\"ner_tags\"])\n",
    "        if ner_tag in (1, 2)  # CoNLL entity codes 1 and 2 refer to people\n",
    "    ]\n",
    "\n",
    "def prepare_dataset(data_split, start: int, end: int) -> List[dspy.Example]:\n",
    "    \"\"\"\n",
    "    Prepares a sliced dataset split for use with DSPy.\n",
    "    \n",
    "    Args:\n",
    "        data_split: The dataset split (e.g., train or test).\n",
    "        start (int): Starting index of the slice.\n",
    "        end (int): Ending index of the slice.\n",
    "    \n",
    "    Returns:\n",
    "        List[dspy.Example]: List of DSPy Examples with tokens and expected labels.\n",
    "    \"\"\"\n",
    "    return [\n",
    "        dspy.Example(\n",
    "            tokens=row[\"tokens\"],\n",
    "            expected_extracted_people=extract_people_entities(row)\n",
    "        ).with_inputs(\"tokens\")\n",
    "        for row in data_split.select(range(start, end))\n",
    "    ]\n",
    "\n",
    "# Load the dataset\n",
    "dataset = load_conll_dataset()\n",
    "\n",
    "# Prepare the training and test sets\n",
    "train_set = prepare_dataset(dataset[\"train\"], 0, 50)\n",
    "test_set = prepare_dataset(dataset[\"test\"], 0, 200)"
   ]
  },
  {
   "cell_type": "markdown",
   "id": "aa801018",
   "metadata": {},
   "source": [
    "## Configure DSPy and create an Entity Extraction Program\n",
    "\n",
    "Here, we define a DSPy program for extracting entities referring to people from tokenized text.\n",
    "\n",
    "Then, we configure DSPy to use a particular language model (gpt-4o-mini) for all invocations of the program.\n",
    "\n",
    "Key DSPy Concepts Introduced:\n",
    "\n",
    "* Signatures: Define structured input/output schemas for your program.\n",
    "* Modules: Encapsulate program logic in reusable, composable units.\n",
    "\n",
    "Specifically, we'll:\n",
    "\n",
    "* Create a `PeopleExtraction` DSPy Signature to specify the input (`tokens`) and output (`extracted_people`) fields.\n",
    "* Define a `people_extractor` program that uses DSPy's built-in `dspy.ChainOfThought` module to implement the `PeopleExtraction` signature. The program extracts entities referring to people from a list of input tokens using language model (LM) prompting.\n",
    "* Use the `dspy.LM` class and `dspy.settings.configure()` method to configure the language model that DSPy will use when invoking the program."
   ]
  },
  {
   "cell_type": "code",
   "execution_count": 2,
   "id": "17602ab3",
   "metadata": {},
   "outputs": [],
   "source": [
    "from typing import List\n",
    "\n",
    "class PeopleExtraction(dspy.Signature):\n",
    "    \"\"\"\n",
    "    Extract contiguous tokens referring to specific people, if any, from a list of string tokens.\n",
    "    Output a list of tokens. In other words, do not combine multiple tokens into a single value.\n",
    "    \"\"\"\n",
    "    tokens: list[str] = dspy.InputField(desc=\"tokenized text\")\n",
    "    extracted_people: list[str] = dspy.OutputField(desc=\"all tokens referring to specific people extracted from the tokenized text\")\n",
    "\n",
    "people_extractor = dspy.ChainOfThought(PeopleExtraction)"
   ]
  },
  {
   "cell_type": "code",
   "execution_count": 3,
   "id": "cb1cffec",
   "metadata": {},
   "outputs": [],
   "source": [
    "# Configure the DSPy environment with the language model - for grok the parameters must be:\n",
    "# env variable should be in os.environ['XAI_API_KEY']\n",
    "# \"xai/grok-3-mini\"\n",
    "lm = dspy.LM('xai/grok-3-mini', api_key=os.environ['XAI_API_KEY'])\n",
    "# for ollama \n",
    "# lm = dspy.LM('ollama_chat/devstral', api_base='http://localhost:11434', api_key='')\n",
    "dspy.configure(lm=lm)"
   ]
  },
  {
   "cell_type": "markdown",
   "id": "87644d81",
   "metadata": {},
   "source": [
    "## Define Metric and Evaluation Functions\n",
    "\n",
    "In DSPy, evaluating a program's performance is critical for iterative development. A good evaluation framework allows us to:\n",
    "\n",
    "* Measure the quality of our program's outputs.\n",
    "* Compare outputs against ground-truth labels.\n",
    "* Identify areas for improvement.\n",
    "\n",
    "What We'll Do:\n",
    "\n",
    "* Define a custom metric (`extraction_correctness_metric`) to evaluate whether the extracted entities match the ground truth.\n",
    "* Create an evaluation function (`evaluate_correctness`) to apply this metric to a training or test dataset and compute the overall accuracy.\n",
    "\n",
    "The evaluation function uses DSPy's Evaluate utility to handle parallelism and visualization of results."
   ]
  },
  {
   "cell_type": "code",
   "execution_count": 4,
   "id": "d7a3a1e3",
   "metadata": {},
   "outputs": [],
   "source": [
    "def extraction_correctness_metric(example: dspy.Example, prediction: dspy.Prediction, trace=None) -> bool:\n",
    "    \"\"\"\n",
    "    Computes correctness of entity extraction predictions.\n",
    "    \n",
    "    Args:\n",
    "        example (dspy.Example): The dataset example containing expected people entities.\n",
    "        prediction (dspy.Prediction): The prediction from the DSPy people extraction program.\n",
    "        trace: Optional trace object for debugging.\n",
    "    \n",
    "    Returns:\n",
    "        bool: True if predictions match expectations, False otherwise.\n",
    "    \"\"\"\n",
    "    return prediction.extracted_people == example.expected_extracted_people\n",
    "\n",
    "evaluate_correctness = dspy.Evaluate(\n",
    "    devset=test_set,\n",
    "    metric=extraction_correctness_metric,\n",
    "    num_threads=24,\n",
    "    display_progress=True,\n",
    "    display_table=True\n",
    ")"
   ]
  },
  {
   "cell_type": "markdown",
   "id": "55b5e2de",
   "metadata": {},
   "source": [
    "## Evaluate Initial Extractor\n",
    "\n",
    "Before optimizing our program, we need a baseline evaluation to understand its current performance. This helps us:\n",
    "\n",
    "* Establish a reference point for comparison after optimization.\n",
    "* Identify potential weaknesses in the initial implementation.\n",
    "\n",
    "In this step, we'll run our `people_extractor` program on the test set and measure its accuracy using the evaluation framework defined earlier."
   ]
  },
  {
   "cell_type": "code",
   "execution_count": 5,
   "id": "abd4d4df",
   "metadata": {},
   "outputs": [
    {
     "name": "stdout",
     "output_type": "stream",
     "text": [
      "Average Metric: 192.00 / 200 (96.0%): 100%|██████████| 200/200 [00:54<00:00,  3.67it/s]"
     ]
    },
    {
     "name": "stderr",
     "output_type": "stream",
     "text": [
      "2025/06/23 09:13:37 INFO dspy.evaluate.evaluate: Average Metric: 192 / 200 (96.0%)\n"
     ]
    },
    {
     "name": "stdout",
     "output_type": "stream",
     "text": [
      "\n"
     ]
    },
    {
     "data": {
      "text/html": [
       "<div>\n",
       "<style scoped>\n",
       "    .dataframe tbody tr th:only-of-type {\n",
       "        vertical-align: middle;\n",
       "    }\n",
       "\n",
       "    .dataframe tbody tr th {\n",
       "        vertical-align: top;\n",
       "    }\n",
       "\n",
       "    .dataframe thead th {\n",
       "        text-align: right;\n",
       "    }\n",
       "</style>\n",
       "<table border=\"1\" class=\"dataframe\">\n",
       "  <thead>\n",
       "    <tr style=\"text-align: right;\">\n",
       "      <th></th>\n",
       "      <th>tokens</th>\n",
       "      <th>expected_extracted_people</th>\n",
       "      <th>reasoning</th>\n",
       "      <th>extracted_people</th>\n",
       "      <th>extraction_correctness_metric</th>\n",
       "    </tr>\n",
       "  </thead>\n",
       "  <tbody>\n",
       "    <tr>\n",
       "      <th>0</th>\n",
       "      <td>[SOCCER, -, JAPAN, GET, LUCKY, WIN, ,, CHINA, IN, SURPRISE, DEFEAT...</td>\n",
       "      <td>[CHINA]</td>\n",
       "      <td>After analyzing the provided tokens [\"SOCCER\", \"-\", \"JAPAN\", \"GET\"...</td>\n",
       "      <td>[]</td>\n",
       "      <td></td>\n",
       "    </tr>\n",
       "    <tr>\n",
       "      <th>1</th>\n",
       "      <td>[Nadim, Ladki]</td>\n",
       "      <td>[Nadim, Ladki]</td>\n",
       "      <td>Upon reviewing the tokens [\"Nadim\", \"Ladki\"], both appear to be pr...</td>\n",
       "      <td>[Nadim, Ladki]</td>\n",
       "      <td>✔️ [True]</td>\n",
       "    </tr>\n",
       "    <tr>\n",
       "      <th>2</th>\n",
       "      <td>[AL-AIN, ,, United, Arab, Emirates, 1996-12-06]</td>\n",
       "      <td>[]</td>\n",
       "      <td>After reviewing the tokens [\"AL-AIN\", \",\", \"United\", \"Arab\", \"Emir...</td>\n",
       "      <td>[]</td>\n",
       "      <td>✔️ [True]</td>\n",
       "    </tr>\n",
       "    <tr>\n",
       "      <th>3</th>\n",
       "      <td>[Japan, began, the, defence, of, their, Asian, Cup, title, with, a...</td>\n",
       "      <td>[]</td>\n",
       "      <td>I analyzed the provided tokens from the text, which describes a sp...</td>\n",
       "      <td>[]</td>\n",
       "      <td>✔️ [True]</td>\n",
       "    </tr>\n",
       "    <tr>\n",
       "      <th>4</th>\n",
       "      <td>[But, China, saw, their, luck, desert, them, in, the, second, matc...</td>\n",
       "      <td>[]</td>\n",
       "      <td>After examining the provided tokens, I identified that the text di...</td>\n",
       "      <td>[]</td>\n",
       "      <td>✔️ [True]</td>\n",
       "    </tr>\n",
       "    <tr>\n",
       "      <th>...</th>\n",
       "      <td>...</td>\n",
       "      <td>...</td>\n",
       "      <td>...</td>\n",
       "      <td>...</td>\n",
       "      <td>...</td>\n",
       "    </tr>\n",
       "    <tr>\n",
       "      <th>195</th>\n",
       "      <td>['The', 'Wallabies', 'have', 'their', 'sights', 'set', 'on', 'a', ...</td>\n",
       "      <td>[David, Campese]</td>\n",
       "      <td>After reviewing the provided tokens, I identified \"David\" and \"Cam...</td>\n",
       "      <td>[David, Campese]</td>\n",
       "      <td>✔️ [True]</td>\n",
       "    </tr>\n",
       "    <tr>\n",
       "      <th>196</th>\n",
       "      <td>['The', 'Wallabies', 'currently', 'have', 'no', 'plans', 'to', 'ma...</td>\n",
       "      <td>[]</td>\n",
       "      <td>Upon reviewing the provided tokens, I am considering any contiguou...</td>\n",
       "      <td>[the, 34-year-old, winger]</td>\n",
       "      <td></td>\n",
       "    </tr>\n",
       "    <tr>\n",
       "      <th>197</th>\n",
       "      <td>['Campese', 'will', 'be', 'up', 'against', 'a', 'familiar', 'foe',...</td>\n",
       "      <td>[Campese, Rob, Andrew]</td>\n",
       "      <td>I analyzed the provided tokens to identify those that refer to spe...</td>\n",
       "      <td>[Campese, Rob, Andrew]</td>\n",
       "      <td>✔️ [True]</td>\n",
       "    </tr>\n",
       "    <tr>\n",
       "      <th>198</th>\n",
       "      <td>['\"', 'Campo', 'has', 'a', 'massive', 'following', 'in', 'this', '...</td>\n",
       "      <td>[Campo, Andrew]</td>\n",
       "      <td>Upon reviewing the provided tokens, I looked for contiguous tokens...</td>\n",
       "      <td>[Campo, Andrew]</td>\n",
       "      <td>✔️ [True]</td>\n",
       "    </tr>\n",
       "    <tr>\n",
       "      <th>199</th>\n",
       "      <td>['On', 'tour', ',', 'Australia', 'have', 'won', 'all', 'four', 'te...</td>\n",
       "      <td>[]</td>\n",
       "      <td>I reviewed the provided tokens to identify any that refer to speci...</td>\n",
       "      <td>[]</td>\n",
       "      <td>✔️ [True]</td>\n",
       "    </tr>\n",
       "  </tbody>\n",
       "</table>\n",
       "<p>200 rows × 5 columns</p>\n",
       "</div>"
      ],
      "text/plain": [
       "                                                                    tokens  \\\n",
       "0    [SOCCER, -, JAPAN, GET, LUCKY, WIN, ,, CHINA, IN, SURPRISE, DEFEAT...   \n",
       "1                                                           [Nadim, Ladki]   \n",
       "2                          [AL-AIN, ,, United, Arab, Emirates, 1996-12-06]   \n",
       "3    [Japan, began, the, defence, of, their, Asian, Cup, title, with, a...   \n",
       "4    [But, China, saw, their, luck, desert, them, in, the, second, matc...   \n",
       "..                                                                     ...   \n",
       "195  ['The', 'Wallabies', 'have', 'their', 'sights', 'set', 'on', 'a', ...   \n",
       "196  ['The', 'Wallabies', 'currently', 'have', 'no', 'plans', 'to', 'ma...   \n",
       "197  ['Campese', 'will', 'be', 'up', 'against', 'a', 'familiar', 'foe',...   \n",
       "198  ['\"', 'Campo', 'has', 'a', 'massive', 'following', 'in', 'this', '...   \n",
       "199  ['On', 'tour', ',', 'Australia', 'have', 'won', 'all', 'four', 'te...   \n",
       "\n",
       "    expected_extracted_people  \\\n",
       "0                     [CHINA]   \n",
       "1              [Nadim, Ladki]   \n",
       "2                          []   \n",
       "3                          []   \n",
       "4                          []   \n",
       "..                        ...   \n",
       "195          [David, Campese]   \n",
       "196                        []   \n",
       "197    [Campese, Rob, Andrew]   \n",
       "198           [Campo, Andrew]   \n",
       "199                        []   \n",
       "\n",
       "                                                                 reasoning  \\\n",
       "0    After analyzing the provided tokens [\"SOCCER\", \"-\", \"JAPAN\", \"GET\"...   \n",
       "1    Upon reviewing the tokens [\"Nadim\", \"Ladki\"], both appear to be pr...   \n",
       "2    After reviewing the tokens [\"AL-AIN\", \",\", \"United\", \"Arab\", \"Emir...   \n",
       "3    I analyzed the provided tokens from the text, which describes a sp...   \n",
       "4    After examining the provided tokens, I identified that the text di...   \n",
       "..                                                                     ...   \n",
       "195  After reviewing the provided tokens, I identified \"David\" and \"Cam...   \n",
       "196  Upon reviewing the provided tokens, I am considering any contiguou...   \n",
       "197  I analyzed the provided tokens to identify those that refer to spe...   \n",
       "198  Upon reviewing the provided tokens, I looked for contiguous tokens...   \n",
       "199  I reviewed the provided tokens to identify any that refer to speci...   \n",
       "\n",
       "               extracted_people extraction_correctness_metric  \n",
       "0                            []                                \n",
       "1                [Nadim, Ladki]                     ✔️ [True]  \n",
       "2                            []                     ✔️ [True]  \n",
       "3                            []                     ✔️ [True]  \n",
       "4                            []                     ✔️ [True]  \n",
       "..                          ...                           ...  \n",
       "195            [David, Campese]                     ✔️ [True]  \n",
       "196  [the, 34-year-old, winger]                                \n",
       "197      [Campese, Rob, Andrew]                     ✔️ [True]  \n",
       "198             [Campo, Andrew]                     ✔️ [True]  \n",
       "199                          []                     ✔️ [True]  \n",
       "\n",
       "[200 rows x 5 columns]"
      ]
     },
     "metadata": {},
     "output_type": "display_data"
    },
    {
     "data": {
      "text/plain": [
       "96.0"
      ]
     },
     "execution_count": 5,
     "metadata": {},
     "output_type": "execute_result"
    }
   ],
   "source": [
    "evaluate_correctness(people_extractor, devset=test_set)"
   ]
  },
  {
   "cell_type": "markdown",
   "id": "526b4c00",
   "metadata": {},
   "source": [
    "## Optimize the Model\n",
    "\n",
    "DSPy includes powerful optimizers that can improve the quality of your system.\n",
    "\n",
    "Here, we use DSPy's MIPROv2 optimizer to:\n",
    "\n",
    "* Automatically tune the program's language model (LM) prompt by \n",
    "    1. using the LM to adjust the prompt's instructions and \n",
    "    2. building few-shot examples from the training dataset that are augmented with reasoning generated from dspy.ChainOfThought.\n",
    "* Maximize correctness on the training set.\n",
    "\n",
    "This optimization process is automated, saving time and effort while improving accuracy."
   ]
  },
  {
   "cell_type": "code",
   "execution_count": 6,
   "id": "d0e892da",
   "metadata": {},
   "outputs": [
    {
     "name": "stderr",
     "output_type": "stream",
     "text": [
      "2025/06/22 16:14:58 INFO dspy.teleprompt.mipro_optimizer_v2: \n",
      "RUNNING WITH THE FOLLOWING MEDIUM AUTO RUN SETTINGS:\n",
      "num_trials: 18\n",
      "minibatch: False\n",
      "num_fewshot_candidates: 12\n",
      "num_instruct_candidates: 6\n",
      "valset size: 40\n",
      "\n",
      "2025/06/22 16:14:58 INFO dspy.teleprompt.mipro_optimizer_v2: \n",
      "==> STEP 1: BOOTSTRAP FEWSHOT EXAMPLES <==\n",
      "2025/06/22 16:14:58 INFO dspy.teleprompt.mipro_optimizer_v2: These will be used as few-shot example candidates for our program and for creating instructions.\n",
      "\n",
      "2025/06/22 16:14:58 INFO dspy.teleprompt.mipro_optimizer_v2: Bootstrapping N=12 sets of demonstrations...\n"
     ]
    },
    {
     "name": "stdout",
     "output_type": "stream",
     "text": [
      "Bootstrapping set 1/12\n",
      "Bootstrapping set 2/12\n",
      "Bootstrapping set 3/12\n"
     ]
    },
    {
     "name": "stderr",
     "output_type": "stream",
     "text": [
      " 40%|████      | 4/10 [00:00<00:00, 1343.57it/s]\n"
     ]
    },
    {
     "name": "stdout",
     "output_type": "stream",
     "text": [
      "Bootstrapped 4 full traces after 4 examples for up to 1 rounds, amounting to 4 attempts.\n",
      "Bootstrapping set 4/12\n"
     ]
    },
    {
     "name": "stderr",
     "output_type": "stream",
     "text": [
      " 40%|████      | 4/10 [00:00<00:00, 979.46it/s]\n"
     ]
    },
    {
     "name": "stdout",
     "output_type": "stream",
     "text": [
      "Bootstrapped 4 full traces after 4 examples for up to 1 rounds, amounting to 4 attempts.\n",
      "Bootstrapping set 5/12\n"
     ]
    },
    {
     "name": "stderr",
     "output_type": "stream",
     "text": [
      " 20%|██        | 2/10 [00:00<00:00, 1054.91it/s]\n"
     ]
    },
    {
     "name": "stdout",
     "output_type": "stream",
     "text": [
      "Bootstrapped 2 full traces after 2 examples for up to 1 rounds, amounting to 2 attempts.\n",
      "Bootstrapping set 6/12\n"
     ]
    },
    {
     "name": "stderr",
     "output_type": "stream",
     "text": [
      " 20%|██        | 2/10 [00:00<00:00, 1620.67it/s]\n"
     ]
    },
    {
     "name": "stdout",
     "output_type": "stream",
     "text": [
      "Bootstrapped 2 full traces after 2 examples for up to 1 rounds, amounting to 2 attempts.\n",
      "Bootstrapping set 7/12\n"
     ]
    },
    {
     "name": "stderr",
     "output_type": "stream",
     "text": [
      " 10%|█         | 1/10 [00:00<00:00, 1349.95it/s]\n"
     ]
    },
    {
     "name": "stdout",
     "output_type": "stream",
     "text": [
      "Bootstrapped 1 full traces after 1 examples for up to 1 rounds, amounting to 1 attempts.\n",
      "Bootstrapping set 8/12\n"
     ]
    },
    {
     "name": "stderr",
     "output_type": "stream",
     "text": [
      " 20%|██        | 2/10 [00:00<00:00, 1638.08it/s]\n"
     ]
    },
    {
     "name": "stdout",
     "output_type": "stream",
     "text": [
      "Bootstrapped 2 full traces after 2 examples for up to 1 rounds, amounting to 2 attempts.\n",
      "Bootstrapping set 9/12\n"
     ]
    },
    {
     "name": "stderr",
     "output_type": "stream",
     "text": [
      " 30%|███       | 3/10 [00:00<00:00, 1774.99it/s]\n"
     ]
    },
    {
     "name": "stdout",
     "output_type": "stream",
     "text": [
      "Bootstrapped 3 full traces after 3 examples for up to 1 rounds, amounting to 3 attempts.\n",
      "Bootstrapping set 10/12\n"
     ]
    },
    {
     "name": "stderr",
     "output_type": "stream",
     "text": [
      " 10%|█         | 1/10 [00:00<00:00, 875.64it/s]\n"
     ]
    },
    {
     "name": "stdout",
     "output_type": "stream",
     "text": [
      "Bootstrapped 1 full traces after 1 examples for up to 1 rounds, amounting to 1 attempts.\n",
      "Bootstrapping set 11/12\n"
     ]
    },
    {
     "name": "stderr",
     "output_type": "stream",
     "text": [
      " 30%|███       | 3/10 [00:00<00:00, 1578.19it/s]\n"
     ]
    },
    {
     "name": "stdout",
     "output_type": "stream",
     "text": [
      "Bootstrapped 3 full traces after 3 examples for up to 1 rounds, amounting to 3 attempts.\n",
      "Bootstrapping set 12/12\n"
     ]
    },
    {
     "name": "stderr",
     "output_type": "stream",
     "text": [
      " 20%|██        | 2/10 [00:00<00:00, 1630.12it/s]\n",
      "2025/06/22 16:14:59 INFO dspy.teleprompt.mipro_optimizer_v2: \n",
      "==> STEP 2: PROPOSE INSTRUCTION CANDIDATES <==\n",
      "2025/06/22 16:14:59 INFO dspy.teleprompt.mipro_optimizer_v2: We will use the few-shot examples from the previous step, a generated dataset summary, a summary of the program code, and a randomly selected prompting tip to propose instructions.\n",
      "2025/06/22 16:14:59 INFO dspy.teleprompt.mipro_optimizer_v2: \n",
      "Proposing N=6 instructions...\n",
      "\n",
      "2025/06/22 16:14:59 INFO dspy.teleprompt.mipro_optimizer_v2: Proposed Instructions for Predictor 0:\n",
      "\n",
      "2025/06/22 16:14:59 INFO dspy.teleprompt.mipro_optimizer_v2: 0: Extract contiguous tokens referring to specific people, if any, from a list of string tokens.\n",
      "Output a list of tokens. In other words, do not combine multiple tokens into a single value.\n",
      "\n",
      "2025/06/22 16:14:59 INFO dspy.teleprompt.mipro_optimizer_v2: 1: Given a list of string tokens from news articles or reports related to European politics, identify and extract contiguous tokens that refer to specific people's names. If no such tokens are present, return an empty list.\n",
      "\n",
      "For example:\n",
      "- For the input: ['EU', 'rejects', 'German', 'call', 'to', 'boycott', 'British', 'lamb', '.'] output an empty list.\n",
      "- For the input: ['Peter', 'Blackburn'], output: ['Peter', 'Blackburn']\n",
      "- For the input: ['BRUSSELS', '1996-08-22'], output an empty list.\n",
      "\n",
      "2025/06/22 16:14:59 INFO dspy.teleprompt.mipro_optimizer_v2: 2: Identify and extract contiguous tokens that represent names of specific people from the given list of string tokens. If no such tokens are present, return an empty list.\n",
      "\n",
      "2025/06/22 16:14:59 INFO dspy.teleprompt.mipro_optimizer_v2: 3: You are provided with a list of tokens extracted from news articles or reports related to European politics. Your task is to identify contiguous tokens that refer to specific people's names. Tokens should be left as individual strings and not combined into single values.\n",
      "\n",
      "For example:\n",
      "- If the token \"Fischler\" appears, it refers to a specific person.\n",
      "- If there are no tokens referring to specific people, return an empty list.\n",
      "\n",
      "Output only the list of extracted people's names in the form of a Python list. Ensure your reasoning is step-by-step and clearly identifies whether each token refers to a specific person or not.\n",
      "\n",
      "2025/06/22 16:14:59 INFO dspy.teleprompt.mipro_optimizer_v2: 4: In an emergency situation where identifying key political figures from news articles is critical for national security, extract contiguous tokens referring to specific people's names from a list of string tokens. Output a list of tokens without combining multiple tokens into a single value.\n",
      "\n",
      "2025/06/22 16:14:59 INFO dspy.teleprompt.mipro_optimizer_v2: 5: You are an expert in named entity recognition focused on extracting people's names from news articles or reports related to European politics. Given a list of string tokens, identify and extract contiguous tokens that refer to specific individuals.\n",
      "\n",
      "2025/06/22 16:14:59 INFO dspy.teleprompt.mipro_optimizer_v2: \n",
      "\n"
     ]
    },
    {
     "name": "stdout",
     "output_type": "stream",
     "text": [
      "Bootstrapped 2 full traces after 2 examples for up to 1 rounds, amounting to 2 attempts.\n",
      "Error getting source code: unhashable type: 'dict'.\n",
      "\n",
      "Running without program aware proposer.\n"
     ]
    },
    {
     "name": "stderr",
     "output_type": "stream",
     "text": [
      "2025/06/22 16:14:59 INFO dspy.teleprompt.mipro_optimizer_v2: ==> STEP 3: FINDING OPTIMAL PROMPT PARAMETERS <==\n",
      "2025/06/22 16:14:59 INFO dspy.teleprompt.mipro_optimizer_v2: We will evaluate the program over a series of trials with different combinations of instructions and few-shot examples to find the optimal combination using Bayesian Optimization.\n",
      "\n",
      "2025/06/22 16:14:59 INFO dspy.teleprompt.mipro_optimizer_v2: == Trial 1 / 18 - Full Evaluation of Default Program ==\n"
     ]
    },
    {
     "name": "stdout",
     "output_type": "stream",
     "text": [
      "Average Metric: 35.00 / 40 (87.5%): 100%|██████████| 40/40 [00:00<00:00, 730.82it/s] "
     ]
    },
    {
     "name": "stderr",
     "output_type": "stream",
     "text": [
      "2025/06/22 16:14:59 INFO dspy.evaluate.evaluate: Average Metric: 35 / 40 (87.5%)\n",
      "2025/06/22 16:14:59 INFO dspy.teleprompt.mipro_optimizer_v2: Default program score: 87.5\n",
      "\n"
     ]
    },
    {
     "name": "stdout",
     "output_type": "stream",
     "text": [
      "\n"
     ]
    },
    {
     "name": "stderr",
     "output_type": "stream",
     "text": [
      "/Users/michael/Library/CloudStorage/OneDrive-BGU/BGU/courses/anlp2025/hw2/.venv/lib/python3.11/site-packages/optuna/_experimental.py:32: ExperimentalWarning: Argument ``multivariate`` is an experimental feature. The interface can change in the future.\n",
      "  warnings.warn(\n",
      "2025/06/22 16:14:59 INFO dspy.teleprompt.mipro_optimizer_v2: ===== Trial 2 / 18 =====\n"
     ]
    },
    {
     "name": "stdout",
     "output_type": "stream",
     "text": [
      "Average Metric: 37.00 / 40 (92.5%): 100%|██████████| 40/40 [00:00<00:00, 654.44it/s] "
     ]
    },
    {
     "name": "stderr",
     "output_type": "stream",
     "text": [
      "2025/06/22 16:14:59 INFO dspy.evaluate.evaluate: Average Metric: 37 / 40 (92.5%)\n",
      "2025/06/22 16:14:59 INFO dspy.teleprompt.mipro_optimizer_v2: \u001b[92mBest full score so far!\u001b[0m Score: 92.5\n",
      "2025/06/22 16:14:59 INFO dspy.teleprompt.mipro_optimizer_v2: Score: 92.5 with parameters ['Predictor 0: Instruction 1', 'Predictor 0: Few-Shot Set 6'].\n",
      "2025/06/22 16:14:59 INFO dspy.teleprompt.mipro_optimizer_v2: Scores so far: [87.5, 92.5]\n",
      "2025/06/22 16:14:59 INFO dspy.teleprompt.mipro_optimizer_v2: Best score so far: 92.5\n",
      "2025/06/22 16:14:59 INFO dspy.teleprompt.mipro_optimizer_v2: ========================\n",
      "\n",
      "\n",
      "2025/06/22 16:14:59 INFO dspy.teleprompt.mipro_optimizer_v2: ===== Trial 3 / 18 =====\n"
     ]
    },
    {
     "name": "stdout",
     "output_type": "stream",
     "text": [
      "\n",
      "Average Metric: 39.00 / 40 (97.5%): 100%|██████████| 40/40 [00:00<00:00, 599.12it/s] "
     ]
    },
    {
     "name": "stderr",
     "output_type": "stream",
     "text": [
      "2025/06/22 16:14:59 INFO dspy.evaluate.evaluate: Average Metric: 39 / 40 (97.5%)\n"
     ]
    },
    {
     "name": "stdout",
     "output_type": "stream",
     "text": [
      "\n"
     ]
    },
    {
     "name": "stderr",
     "output_type": "stream",
     "text": [
      "2025/06/22 16:14:59 INFO dspy.teleprompt.mipro_optimizer_v2: \u001b[92mBest full score so far!\u001b[0m Score: 97.5\n",
      "2025/06/22 16:14:59 INFO dspy.teleprompt.mipro_optimizer_v2: Score: 97.5 with parameters ['Predictor 0: Instruction 4', 'Predictor 0: Few-Shot Set 2'].\n",
      "2025/06/22 16:14:59 INFO dspy.teleprompt.mipro_optimizer_v2: Scores so far: [87.5, 92.5, 97.5]\n",
      "2025/06/22 16:14:59 INFO dspy.teleprompt.mipro_optimizer_v2: Best score so far: 97.5\n",
      "2025/06/22 16:14:59 INFO dspy.teleprompt.mipro_optimizer_v2: ========================\n",
      "\n",
      "\n",
      "2025/06/22 16:14:59 INFO dspy.teleprompt.mipro_optimizer_v2: ===== Trial 4 / 18 =====\n"
     ]
    },
    {
     "name": "stdout",
     "output_type": "stream",
     "text": [
      "Average Metric: 38.00 / 40 (95.0%): 100%|██████████| 40/40 [00:00<00:00, 301.84it/s] "
     ]
    },
    {
     "name": "stderr",
     "output_type": "stream",
     "text": [
      "2025/06/22 16:14:59 INFO dspy.evaluate.evaluate: Average Metric: 38 / 40 (95.0%)\n",
      "2025/06/22 16:14:59 INFO dspy.teleprompt.mipro_optimizer_v2: Score: 95.0 with parameters ['Predictor 0: Instruction 0', 'Predictor 0: Few-Shot Set 6'].\n"
     ]
    },
    {
     "name": "stdout",
     "output_type": "stream",
     "text": [
      "\n"
     ]
    },
    {
     "name": "stderr",
     "output_type": "stream",
     "text": [
      "2025/06/22 16:14:59 INFO dspy.teleprompt.mipro_optimizer_v2: Scores so far: [87.5, 92.5, 97.5, 95.0]\n",
      "2025/06/22 16:14:59 INFO dspy.teleprompt.mipro_optimizer_v2: Best score so far: 97.5\n",
      "2025/06/22 16:14:59 INFO dspy.teleprompt.mipro_optimizer_v2: ========================\n",
      "\n",
      "\n",
      "2025/06/22 16:14:59 INFO dspy.teleprompt.mipro_optimizer_v2: ===== Trial 5 / 18 =====\n"
     ]
    },
    {
     "name": "stdout",
     "output_type": "stream",
     "text": [
      "Average Metric: 34.00 / 40 (85.0%): 100%|██████████| 40/40 [00:00<00:00, 656.15it/s]"
     ]
    },
    {
     "name": "stderr",
     "output_type": "stream",
     "text": [
      "2025/06/22 16:14:59 INFO dspy.evaluate.evaluate: Average Metric: 34 / 40 (85.0%)\n",
      "2025/06/22 16:14:59 INFO dspy.teleprompt.mipro_optimizer_v2: Score: 85.0 with parameters ['Predictor 0: Instruction 2', 'Predictor 0: Few-Shot Set 4'].\n",
      "2025/06/22 16:14:59 INFO dspy.teleprompt.mipro_optimizer_v2: Scores so far: [87.5, 92.5, 97.5, 95.0, 85.0]\n",
      "2025/06/22 16:14:59 INFO dspy.teleprompt.mipro_optimizer_v2: Best score so far: 97.5\n",
      "2025/06/22 16:14:59 INFO dspy.teleprompt.mipro_optimizer_v2: ========================\n",
      "\n",
      "\n",
      "2025/06/22 16:14:59 INFO dspy.teleprompt.mipro_optimizer_v2: ===== Trial 6 / 18 =====\n"
     ]
    },
    {
     "name": "stdout",
     "output_type": "stream",
     "text": [
      "\n",
      "Average Metric: 39.00 / 40 (97.5%): 100%|██████████| 40/40 [00:00<00:00, 656.62it/s] "
     ]
    },
    {
     "name": "stderr",
     "output_type": "stream",
     "text": [
      "2025/06/22 16:14:59 INFO dspy.evaluate.evaluate: Average Metric: 39 / 40 (97.5%)\n"
     ]
    },
    {
     "name": "stdout",
     "output_type": "stream",
     "text": [
      "\n"
     ]
    },
    {
     "name": "stderr",
     "output_type": "stream",
     "text": [
      "2025/06/22 16:15:00 INFO dspy.teleprompt.mipro_optimizer_v2: Score: 97.5 with parameters ['Predictor 0: Instruction 3', 'Predictor 0: Few-Shot Set 5'].\n",
      "2025/06/22 16:15:00 INFO dspy.teleprompt.mipro_optimizer_v2: Scores so far: [87.5, 92.5, 97.5, 95.0, 85.0, 97.5]\n",
      "2025/06/22 16:15:00 INFO dspy.teleprompt.mipro_optimizer_v2: Best score so far: 97.5\n",
      "2025/06/22 16:15:00 INFO dspy.teleprompt.mipro_optimizer_v2: ========================\n",
      "\n",
      "\n",
      "2025/06/22 16:15:00 INFO dspy.teleprompt.mipro_optimizer_v2: ===== Trial 7 / 18 =====\n"
     ]
    },
    {
     "name": "stdout",
     "output_type": "stream",
     "text": [
      "Average Metric: 38.00 / 40 (95.0%): 100%|██████████| 40/40 [00:00<00:00, 613.95it/s] "
     ]
    },
    {
     "name": "stderr",
     "output_type": "stream",
     "text": [
      "2025/06/22 16:15:00 INFO dspy.evaluate.evaluate: Average Metric: 38 / 40 (95.0%)\n"
     ]
    },
    {
     "name": "stdout",
     "output_type": "stream",
     "text": [
      "\n"
     ]
    },
    {
     "name": "stderr",
     "output_type": "stream",
     "text": [
      "2025/06/22 16:15:00 INFO dspy.teleprompt.mipro_optimizer_v2: Score: 95.0 with parameters ['Predictor 0: Instruction 4', 'Predictor 0: Few-Shot Set 6'].\n",
      "2025/06/22 16:15:00 INFO dspy.teleprompt.mipro_optimizer_v2: Scores so far: [87.5, 92.5, 97.5, 95.0, 85.0, 97.5, 95.0]\n",
      "2025/06/22 16:15:00 INFO dspy.teleprompt.mipro_optimizer_v2: Best score so far: 97.5\n",
      "2025/06/22 16:15:00 INFO dspy.teleprompt.mipro_optimizer_v2: ========================\n",
      "\n",
      "\n",
      "2025/06/22 16:15:00 INFO dspy.teleprompt.mipro_optimizer_v2: ===== Trial 8 / 18 =====\n"
     ]
    },
    {
     "name": "stdout",
     "output_type": "stream",
     "text": [
      "Average Metric: 32.00 / 40 (80.0%): 100%|██████████| 40/40 [00:00<00:00, 769.53it/s]"
     ]
    },
    {
     "name": "stderr",
     "output_type": "stream",
     "text": [
      "2025/06/22 16:15:00 INFO dspy.evaluate.evaluate: Average Metric: 32 / 40 (80.0%)\n"
     ]
    },
    {
     "name": "stdout",
     "output_type": "stream",
     "text": [
      "\n"
     ]
    },
    {
     "name": "stderr",
     "output_type": "stream",
     "text": [
      "2025/06/22 16:15:00 INFO dspy.teleprompt.mipro_optimizer_v2: Score: 80.0 with parameters ['Predictor 0: Instruction 5', 'Predictor 0: Few-Shot Set 1'].\n",
      "2025/06/22 16:15:00 INFO dspy.teleprompt.mipro_optimizer_v2: Scores so far: [87.5, 92.5, 97.5, 95.0, 85.0, 97.5, 95.0, 80.0]\n",
      "2025/06/22 16:15:00 INFO dspy.teleprompt.mipro_optimizer_v2: Best score so far: 97.5\n",
      "2025/06/22 16:15:00 INFO dspy.teleprompt.mipro_optimizer_v2: ========================\n",
      "\n",
      "\n",
      "2025/06/22 16:15:00 INFO dspy.teleprompt.mipro_optimizer_v2: ===== Trial 9 / 18 =====\n"
     ]
    },
    {
     "name": "stdout",
     "output_type": "stream",
     "text": [
      "Average Metric: 38.00 / 40 (95.0%): 100%|██████████| 40/40 [00:00<00:00, 602.56it/s]"
     ]
    },
    {
     "name": "stderr",
     "output_type": "stream",
     "text": [
      "2025/06/22 16:15:00 INFO dspy.evaluate.evaluate: Average Metric: 38 / 40 (95.0%)\n"
     ]
    },
    {
     "name": "stdout",
     "output_type": "stream",
     "text": [
      "\n"
     ]
    },
    {
     "name": "stderr",
     "output_type": "stream",
     "text": [
      "2025/06/22 16:15:00 INFO dspy.teleprompt.mipro_optimizer_v2: Score: 95.0 with parameters ['Predictor 0: Instruction 3', 'Predictor 0: Few-Shot Set 3'].\n",
      "2025/06/22 16:15:00 INFO dspy.teleprompt.mipro_optimizer_v2: Scores so far: [87.5, 92.5, 97.5, 95.0, 85.0, 97.5, 95.0, 80.0, 95.0]\n",
      "2025/06/22 16:15:00 INFO dspy.teleprompt.mipro_optimizer_v2: Best score so far: 97.5\n",
      "2025/06/22 16:15:00 INFO dspy.teleprompt.mipro_optimizer_v2: ========================\n",
      "\n",
      "\n",
      "2025/06/22 16:15:00 INFO dspy.teleprompt.mipro_optimizer_v2: ===== Trial 10 / 18 =====\n"
     ]
    },
    {
     "name": "stdout",
     "output_type": "stream",
     "text": [
      "Average Metric: 39.00 / 40 (97.5%): 100%|██████████| 40/40 [00:00<00:00, 613.19it/s] "
     ]
    },
    {
     "name": "stderr",
     "output_type": "stream",
     "text": [
      "2025/06/22 16:15:00 INFO dspy.evaluate.evaluate: Average Metric: 39 / 40 (97.5%)\n"
     ]
    },
    {
     "name": "stdout",
     "output_type": "stream",
     "text": [
      "\n"
     ]
    },
    {
     "name": "stderr",
     "output_type": "stream",
     "text": [
      "2025/06/22 16:15:00 INFO dspy.teleprompt.mipro_optimizer_v2: Score: 97.5 with parameters ['Predictor 0: Instruction 3', 'Predictor 0: Few-Shot Set 10'].\n",
      "2025/06/22 16:15:00 INFO dspy.teleprompt.mipro_optimizer_v2: Scores so far: [87.5, 92.5, 97.5, 95.0, 85.0, 97.5, 95.0, 80.0, 95.0, 97.5]\n",
      "2025/06/22 16:15:00 INFO dspy.teleprompt.mipro_optimizer_v2: Best score so far: 97.5\n",
      "2025/06/22 16:15:00 INFO dspy.teleprompt.mipro_optimizer_v2: =========================\n",
      "\n",
      "\n",
      "2025/06/22 16:15:00 INFO dspy.teleprompt.mipro_optimizer_v2: ===== Trial 11 / 18 =====\n"
     ]
    },
    {
     "name": "stdout",
     "output_type": "stream",
     "text": [
      "Average Metric: 39.00 / 40 (97.5%): 100%|██████████| 40/40 [00:00<00:00, 4551.73it/s]"
     ]
    },
    {
     "name": "stderr",
     "output_type": "stream",
     "text": [
      "2025/06/22 16:15:00 INFO dspy.evaluate.evaluate: Average Metric: 39 / 40 (97.5%)\n",
      "2025/06/22 16:15:00 INFO dspy.teleprompt.mipro_optimizer_v2: Score: 97.5 with parameters ['Predictor 0: Instruction 4', 'Predictor 0: Few-Shot Set 2'].\n"
     ]
    },
    {
     "name": "stdout",
     "output_type": "stream",
     "text": [
      "\n"
     ]
    },
    {
     "name": "stderr",
     "output_type": "stream",
     "text": [
      "2025/06/22 16:15:00 INFO dspy.teleprompt.mipro_optimizer_v2: Scores so far: [87.5, 92.5, 97.5, 95.0, 85.0, 97.5, 95.0, 80.0, 95.0, 97.5, 97.5]\n",
      "2025/06/22 16:15:00 INFO dspy.teleprompt.mipro_optimizer_v2: Best score so far: 97.5\n",
      "2025/06/22 16:15:00 INFO dspy.teleprompt.mipro_optimizer_v2: =========================\n",
      "\n",
      "\n",
      "2025/06/22 16:15:00 INFO dspy.teleprompt.mipro_optimizer_v2: ===== Trial 12 / 18 =====\n"
     ]
    },
    {
     "name": "stdout",
     "output_type": "stream",
     "text": [
      "Average Metric: 38.00 / 40 (95.0%): 100%|██████████| 40/40 [00:00<00:00, 624.32it/s] "
     ]
    },
    {
     "name": "stderr",
     "output_type": "stream",
     "text": [
      "2025/06/22 16:15:00 INFO dspy.evaluate.evaluate: Average Metric: 38 / 40 (95.0%)\n",
      "2025/06/22 16:15:00 INFO dspy.teleprompt.mipro_optimizer_v2: Score: 95.0 with parameters ['Predictor 0: Instruction 4', 'Predictor 0: Few-Shot Set 5'].\n",
      "2025/06/22 16:15:00 INFO dspy.teleprompt.mipro_optimizer_v2: Scores so far: [87.5, 92.5, 97.5, 95.0, 85.0, 97.5, 95.0, 80.0, 95.0, 97.5, 97.5, 95.0]\n",
      "2025/06/22 16:15:00 INFO dspy.teleprompt.mipro_optimizer_v2: Best score so far: 97.5\n",
      "2025/06/22 16:15:00 INFO dspy.teleprompt.mipro_optimizer_v2: =========================\n",
      "\n",
      "\n",
      "2025/06/22 16:15:00 INFO dspy.teleprompt.mipro_optimizer_v2: ===== Trial 13 / 18 =====\n"
     ]
    },
    {
     "name": "stdout",
     "output_type": "stream",
     "text": [
      "\n",
      "Average Metric: 39.00 / 40 (97.5%): 100%|██████████| 40/40 [00:00<00:00, 4814.12it/s] "
     ]
    },
    {
     "name": "stderr",
     "output_type": "stream",
     "text": [
      "2025/06/22 16:15:00 INFO dspy.evaluate.evaluate: Average Metric: 39 / 40 (97.5%)\n",
      "2025/06/22 16:15:00 INFO dspy.teleprompt.mipro_optimizer_v2: Score: 97.5 with parameters ['Predictor 0: Instruction 3', 'Predictor 0: Few-Shot Set 5'].\n",
      "2025/06/22 16:15:00 INFO dspy.teleprompt.mipro_optimizer_v2: Scores so far: [87.5, 92.5, 97.5, 95.0, 85.0, 97.5, 95.0, 80.0, 95.0, 97.5, 97.5, 95.0, 97.5]\n",
      "2025/06/22 16:15:00 INFO dspy.teleprompt.mipro_optimizer_v2: Best score so far: 97.5\n",
      "2025/06/22 16:15:00 INFO dspy.teleprompt.mipro_optimizer_v2: =========================\n",
      "\n",
      "\n",
      "2025/06/22 16:15:00 INFO dspy.teleprompt.mipro_optimizer_v2: ===== Trial 14 / 18 =====\n"
     ]
    },
    {
     "name": "stdout",
     "output_type": "stream",
     "text": [
      "\n",
      "Average Metric: 37.00 / 40 (92.5%): 100%|██████████| 40/40 [00:00<00:00, 580.02it/s]"
     ]
    },
    {
     "name": "stderr",
     "output_type": "stream",
     "text": [
      "2025/06/22 16:15:00 INFO dspy.evaluate.evaluate: Average Metric: 37 / 40 (92.5%)\n"
     ]
    },
    {
     "name": "stdout",
     "output_type": "stream",
     "text": [
      "\n"
     ]
    },
    {
     "name": "stderr",
     "output_type": "stream",
     "text": [
      "2025/06/22 16:15:00 INFO dspy.teleprompt.mipro_optimizer_v2: Score: 92.5 with parameters ['Predictor 0: Instruction 5', 'Predictor 0: Few-Shot Set 2'].\n",
      "2025/06/22 16:15:00 INFO dspy.teleprompt.mipro_optimizer_v2: Scores so far: [87.5, 92.5, 97.5, 95.0, 85.0, 97.5, 95.0, 80.0, 95.0, 97.5, 97.5, 95.0, 97.5, 92.5]\n",
      "2025/06/22 16:15:00 INFO dspy.teleprompt.mipro_optimizer_v2: Best score so far: 97.5\n",
      "2025/06/22 16:15:00 INFO dspy.teleprompt.mipro_optimizer_v2: =========================\n",
      "\n",
      "\n",
      "2025/06/22 16:15:00 INFO dspy.teleprompt.mipro_optimizer_v2: ===== Trial 15 / 18 =====\n"
     ]
    },
    {
     "name": "stdout",
     "output_type": "stream",
     "text": [
      "Average Metric: 37.00 / 40 (92.5%): 100%|██████████| 40/40 [00:00<00:00, 657.47it/s] "
     ]
    },
    {
     "name": "stderr",
     "output_type": "stream",
     "text": [
      "2025/06/22 16:15:00 INFO dspy.evaluate.evaluate: Average Metric: 37 / 40 (92.5%)\n",
      "2025/06/22 16:15:00 INFO dspy.teleprompt.mipro_optimizer_v2: Score: 92.5 with parameters ['Predictor 0: Instruction 2', 'Predictor 0: Few-Shot Set 9'].\n",
      "2025/06/22 16:15:00 INFO dspy.teleprompt.mipro_optimizer_v2: Scores so far: [87.5, 92.5, 97.5, 95.0, 85.0, 97.5, 95.0, 80.0, 95.0, 97.5, 97.5, 95.0, 97.5, 92.5, 92.5]\n",
      "2025/06/22 16:15:00 INFO dspy.teleprompt.mipro_optimizer_v2: Best score so far: 97.5\n",
      "2025/06/22 16:15:00 INFO dspy.teleprompt.mipro_optimizer_v2: =========================\n",
      "\n",
      "\n",
      "2025/06/22 16:15:00 INFO dspy.teleprompt.mipro_optimizer_v2: ===== Trial 16 / 18 =====\n"
     ]
    },
    {
     "name": "stdout",
     "output_type": "stream",
     "text": [
      "\n",
      "Average Metric: 39.00 / 40 (97.5%): 100%|██████████| 40/40 [00:00<00:00, 645.57it/s] "
     ]
    },
    {
     "name": "stderr",
     "output_type": "stream",
     "text": [
      "2025/06/22 16:15:00 INFO dspy.evaluate.evaluate: Average Metric: 39 / 40 (97.5%)\n"
     ]
    },
    {
     "name": "stdout",
     "output_type": "stream",
     "text": [
      "\n"
     ]
    },
    {
     "name": "stderr",
     "output_type": "stream",
     "text": [
      "2025/06/22 16:15:00 INFO dspy.teleprompt.mipro_optimizer_v2: Score: 97.5 with parameters ['Predictor 0: Instruction 4', 'Predictor 0: Few-Shot Set 11'].\n",
      "2025/06/22 16:15:00 INFO dspy.teleprompt.mipro_optimizer_v2: Scores so far: [87.5, 92.5, 97.5, 95.0, 85.0, 97.5, 95.0, 80.0, 95.0, 97.5, 97.5, 95.0, 97.5, 92.5, 92.5, 97.5]\n",
      "2025/06/22 16:15:00 INFO dspy.teleprompt.mipro_optimizer_v2: Best score so far: 97.5\n",
      "2025/06/22 16:15:00 INFO dspy.teleprompt.mipro_optimizer_v2: =========================\n",
      "\n",
      "\n",
      "2025/06/22 16:15:00 INFO dspy.teleprompt.mipro_optimizer_v2: ===== Trial 17 / 18 =====\n"
     ]
    },
    {
     "name": "stdout",
     "output_type": "stream",
     "text": [
      "Average Metric: 39.00 / 40 (97.5%): 100%|██████████| 40/40 [00:00<00:00, 559.58it/s] "
     ]
    },
    {
     "name": "stderr",
     "output_type": "stream",
     "text": [
      "2025/06/22 16:15:00 INFO dspy.evaluate.evaluate: Average Metric: 39 / 40 (97.5%)\n"
     ]
    },
    {
     "name": "stdout",
     "output_type": "stream",
     "text": [
      "\n"
     ]
    },
    {
     "name": "stderr",
     "output_type": "stream",
     "text": [
      "2025/06/22 16:15:00 INFO dspy.teleprompt.mipro_optimizer_v2: Score: 97.5 with parameters ['Predictor 0: Instruction 3', 'Predictor 0: Few-Shot Set 2'].\n",
      "2025/06/22 16:15:00 INFO dspy.teleprompt.mipro_optimizer_v2: Scores so far: [87.5, 92.5, 97.5, 95.0, 85.0, 97.5, 95.0, 80.0, 95.0, 97.5, 97.5, 95.0, 97.5, 92.5, 92.5, 97.5, 97.5]\n",
      "2025/06/22 16:15:00 INFO dspy.teleprompt.mipro_optimizer_v2: Best score so far: 97.5\n",
      "2025/06/22 16:15:00 INFO dspy.teleprompt.mipro_optimizer_v2: =========================\n",
      "\n",
      "\n",
      "2025/06/22 16:15:00 INFO dspy.teleprompt.mipro_optimizer_v2: ===== Trial 18 / 18 =====\n"
     ]
    },
    {
     "name": "stdout",
     "output_type": "stream",
     "text": [
      "Average Metric: 39.00 / 40 (97.5%): 100%|██████████| 40/40 [00:00<00:00, 620.03it/s] "
     ]
    },
    {
     "name": "stderr",
     "output_type": "stream",
     "text": [
      "2025/06/22 16:15:01 INFO dspy.evaluate.evaluate: Average Metric: 39 / 40 (97.5%)\n"
     ]
    },
    {
     "name": "stdout",
     "output_type": "stream",
     "text": [
      "\n"
     ]
    },
    {
     "name": "stderr",
     "output_type": "stream",
     "text": [
      "2025/06/22 16:15:01 INFO dspy.teleprompt.mipro_optimizer_v2: Score: 97.5 with parameters ['Predictor 0: Instruction 4', 'Predictor 0: Few-Shot Set 8'].\n",
      "2025/06/22 16:15:01 INFO dspy.teleprompt.mipro_optimizer_v2: Scores so far: [87.5, 92.5, 97.5, 95.0, 85.0, 97.5, 95.0, 80.0, 95.0, 97.5, 97.5, 95.0, 97.5, 92.5, 92.5, 97.5, 97.5, 97.5]\n",
      "2025/06/22 16:15:01 INFO dspy.teleprompt.mipro_optimizer_v2: Best score so far: 97.5\n",
      "2025/06/22 16:15:01 INFO dspy.teleprompt.mipro_optimizer_v2: =========================\n",
      "\n",
      "\n",
      "2025/06/22 16:15:01 INFO dspy.teleprompt.mipro_optimizer_v2: ===== Trial 19 / 18 =====\n"
     ]
    },
    {
     "name": "stdout",
     "output_type": "stream",
     "text": [
      "Average Metric: 38.00 / 40 (95.0%): 100%|██████████| 40/40 [00:00<00:00, 651.40it/s] \n"
     ]
    },
    {
     "name": "stderr",
     "output_type": "stream",
     "text": [
      "2025/06/22 16:15:01 INFO dspy.evaluate.evaluate: Average Metric: 38 / 40 (95.0%)\n",
      "2025/06/22 16:15:01 INFO dspy.teleprompt.mipro_optimizer_v2: Score: 95.0 with parameters ['Predictor 0: Instruction 0', 'Predictor 0: Few-Shot Set 7'].\n",
      "2025/06/22 16:15:01 INFO dspy.teleprompt.mipro_optimizer_v2: Scores so far: [87.5, 92.5, 97.5, 95.0, 85.0, 97.5, 95.0, 80.0, 95.0, 97.5, 97.5, 95.0, 97.5, 92.5, 92.5, 97.5, 97.5, 97.5, 95.0]\n",
      "2025/06/22 16:15:01 INFO dspy.teleprompt.mipro_optimizer_v2: Best score so far: 97.5\n",
      "2025/06/22 16:15:01 INFO dspy.teleprompt.mipro_optimizer_v2: =========================\n",
      "\n",
      "\n",
      "2025/06/22 16:15:01 INFO dspy.teleprompt.mipro_optimizer_v2: Returning best identified program with score 97.5!\n"
     ]
    }
   ],
   "source": [
    "mipro_optimizer = dspy.MIPROv2(\n",
    "    metric=extraction_correctness_metric,\n",
    "    auto=\"medium\",\n",
    ")\n",
    "optimized_people_extractor = mipro_optimizer.compile(\n",
    "    people_extractor,\n",
    "    trainset=train_set,\n",
    "    max_bootstrapped_demos=4,\n",
    "    requires_permission_to_run=False,\n",
    "    minibatch=False\n",
    ")"
   ]
  },
  {
   "cell_type": "markdown",
   "id": "8903605b",
   "metadata": {},
   "source": [
    "## Evaluate Optimized Program\n",
    "\n",
    "After optimization, we re-evaluate the program on the test set to measure improvements. Comparing the optimized and initial results allows us to:\n",
    "\n",
    "* Quantify the benefits of optimization.\n",
    "* Validate that the program generalizes well to unseen data.\n",
    "\n",
    "In this case, we see that accuracy of the program on the test dataset has improved significantly."
   ]
  },
  {
   "cell_type": "code",
   "execution_count": 7,
   "id": "78e77328",
   "metadata": {},
   "outputs": [
    {
     "name": "stdout",
     "output_type": "stream",
     "text": [
      "Average Metric: 189.00 / 200 (94.5%): 100%|██████████| 200/200 [15:02<00:00,  4.51s/it]"
     ]
    },
    {
     "name": "stderr",
     "output_type": "stream",
     "text": [
      "2025/06/22 16:30:30 INFO dspy.evaluate.evaluate: Average Metric: 189 / 200 (94.5%)\n"
     ]
    },
    {
     "name": "stdout",
     "output_type": "stream",
     "text": [
      "\n"
     ]
    },
    {
     "data": {
      "text/html": [
       "<div>\n",
       "<style scoped>\n",
       "    .dataframe tbody tr th:only-of-type {\n",
       "        vertical-align: middle;\n",
       "    }\n",
       "\n",
       "    .dataframe tbody tr th {\n",
       "        vertical-align: top;\n",
       "    }\n",
       "\n",
       "    .dataframe thead th {\n",
       "        text-align: right;\n",
       "    }\n",
       "</style>\n",
       "<table border=\"1\" class=\"dataframe\">\n",
       "  <thead>\n",
       "    <tr style=\"text-align: right;\">\n",
       "      <th></th>\n",
       "      <th>tokens</th>\n",
       "      <th>expected_extracted_people</th>\n",
       "      <th>reasoning</th>\n",
       "      <th>extracted_people</th>\n",
       "      <th>extraction_correctness_metric</th>\n",
       "    </tr>\n",
       "  </thead>\n",
       "  <tbody>\n",
       "    <tr>\n",
       "      <th>0</th>\n",
       "      <td>[SOCCER, -, JAPAN, GET, LUCKY, WIN, ,, CHINA, IN, SURPRISE, DEFEAT...</td>\n",
       "      <td>[CHINA]</td>\n",
       "      <td>The provided tokens do not contain any specific names of people. T...</td>\n",
       "      <td>[]</td>\n",
       "      <td></td>\n",
       "    </tr>\n",
       "    <tr>\n",
       "      <th>1</th>\n",
       "      <td>[Nadim, Ladki]</td>\n",
       "      <td>[Nadim, Ladki]</td>\n",
       "      <td>The tokens \"Nadim\" and \"Ladki\" are both proper nouns that refer to...</td>\n",
       "      <td>[Nadim, Ladki]</td>\n",
       "      <td>✔️ [True]</td>\n",
       "    </tr>\n",
       "    <tr>\n",
       "      <th>2</th>\n",
       "      <td>[AL-AIN, ,, United, Arab, Emirates, 1996-12-06]</td>\n",
       "      <td>[]</td>\n",
       "      <td>The provided tokens do not contain any specific names of people. T...</td>\n",
       "      <td>[]</td>\n",
       "      <td>✔️ [True]</td>\n",
       "    </tr>\n",
       "    <tr>\n",
       "      <th>3</th>\n",
       "      <td>[Japan, began, the, defence, of, their, Asian, Cup, title, with, a...</td>\n",
       "      <td>[]</td>\n",
       "      <td>The provided tokens do not contain any specific names of people. T...</td>\n",
       "      <td>[]</td>\n",
       "      <td>✔️ [True]</td>\n",
       "    </tr>\n",
       "    <tr>\n",
       "      <th>4</th>\n",
       "      <td>[But, China, saw, their, luck, desert, them, in, the, second, matc...</td>\n",
       "      <td>[]</td>\n",
       "      <td>The provided tokens do not contain any specific names of people. T...</td>\n",
       "      <td>[]</td>\n",
       "      <td>✔️ [True]</td>\n",
       "    </tr>\n",
       "    <tr>\n",
       "      <th>...</th>\n",
       "      <td>...</td>\n",
       "      <td>...</td>\n",
       "      <td>...</td>\n",
       "      <td>...</td>\n",
       "      <td>...</td>\n",
       "    </tr>\n",
       "    <tr>\n",
       "      <th>195</th>\n",
       "      <td>['The', 'Wallabies', 'have', 'their', 'sights', 'set', 'on', 'a', ...</td>\n",
       "      <td>[David, Campese]</td>\n",
       "      <td>The tokens provided contain a specific name \"David Campese\" which ...</td>\n",
       "      <td>[David, Campese]</td>\n",
       "      <td>✔️ [True]</td>\n",
       "    </tr>\n",
       "    <tr>\n",
       "      <th>196</th>\n",
       "      <td>['The', 'Wallabies', 'currently', 'have', 'no', 'plans', 'to', 'ma...</td>\n",
       "      <td>[]</td>\n",
       "      <td>The provided tokens do not contain any specific names of people. T...</td>\n",
       "      <td>[]</td>\n",
       "      <td>✔️ [True]</td>\n",
       "    </tr>\n",
       "    <tr>\n",
       "      <th>197</th>\n",
       "      <td>['Campese', 'will', 'be', 'up', 'against', 'a', 'familiar', 'foe',...</td>\n",
       "      <td>[Campese, Rob, Andrew]</td>\n",
       "      <td>The tokens contain names of specific people: \"Campese,\" \"Rob,\" and...</td>\n",
       "      <td>[Campese, Rob, Andrew]</td>\n",
       "      <td>✔️ [True]</td>\n",
       "    </tr>\n",
       "    <tr>\n",
       "      <th>198</th>\n",
       "      <td>['\"', 'Campo', 'has', 'a', 'massive', 'following', 'in', 'this', '...</td>\n",
       "      <td>[Campo, Andrew]</td>\n",
       "      <td>The tokens contain specific names of people. \"Campo\" is mentioned ...</td>\n",
       "      <td>[Campo, Andrew]</td>\n",
       "      <td>✔️ [True]</td>\n",
       "    </tr>\n",
       "    <tr>\n",
       "      <th>199</th>\n",
       "      <td>['On', 'tour', ',', 'Australia', 'have', 'won', 'all', 'four', 'te...</td>\n",
       "      <td>[]</td>\n",
       "      <td>The provided tokens do not contain any specific names of people. T...</td>\n",
       "      <td>[]</td>\n",
       "      <td>✔️ [True]</td>\n",
       "    </tr>\n",
       "  </tbody>\n",
       "</table>\n",
       "<p>200 rows × 5 columns</p>\n",
       "</div>"
      ],
      "text/plain": [
       "                                                                    tokens  \\\n",
       "0    [SOCCER, -, JAPAN, GET, LUCKY, WIN, ,, CHINA, IN, SURPRISE, DEFEAT...   \n",
       "1                                                           [Nadim, Ladki]   \n",
       "2                          [AL-AIN, ,, United, Arab, Emirates, 1996-12-06]   \n",
       "3    [Japan, began, the, defence, of, their, Asian, Cup, title, with, a...   \n",
       "4    [But, China, saw, their, luck, desert, them, in, the, second, matc...   \n",
       "..                                                                     ...   \n",
       "195  ['The', 'Wallabies', 'have', 'their', 'sights', 'set', 'on', 'a', ...   \n",
       "196  ['The', 'Wallabies', 'currently', 'have', 'no', 'plans', 'to', 'ma...   \n",
       "197  ['Campese', 'will', 'be', 'up', 'against', 'a', 'familiar', 'foe',...   \n",
       "198  ['\"', 'Campo', 'has', 'a', 'massive', 'following', 'in', 'this', '...   \n",
       "199  ['On', 'tour', ',', 'Australia', 'have', 'won', 'all', 'four', 'te...   \n",
       "\n",
       "    expected_extracted_people  \\\n",
       "0                     [CHINA]   \n",
       "1              [Nadim, Ladki]   \n",
       "2                          []   \n",
       "3                          []   \n",
       "4                          []   \n",
       "..                        ...   \n",
       "195          [David, Campese]   \n",
       "196                        []   \n",
       "197    [Campese, Rob, Andrew]   \n",
       "198           [Campo, Andrew]   \n",
       "199                        []   \n",
       "\n",
       "                                                                 reasoning  \\\n",
       "0    The provided tokens do not contain any specific names of people. T...   \n",
       "1    The tokens \"Nadim\" and \"Ladki\" are both proper nouns that refer to...   \n",
       "2    The provided tokens do not contain any specific names of people. T...   \n",
       "3    The provided tokens do not contain any specific names of people. T...   \n",
       "4    The provided tokens do not contain any specific names of people. T...   \n",
       "..                                                                     ...   \n",
       "195  The tokens provided contain a specific name \"David Campese\" which ...   \n",
       "196  The provided tokens do not contain any specific names of people. T...   \n",
       "197  The tokens contain names of specific people: \"Campese,\" \"Rob,\" and...   \n",
       "198  The tokens contain specific names of people. \"Campo\" is mentioned ...   \n",
       "199  The provided tokens do not contain any specific names of people. T...   \n",
       "\n",
       "           extracted_people extraction_correctness_metric  \n",
       "0                        []                                \n",
       "1            [Nadim, Ladki]                     ✔️ [True]  \n",
       "2                        []                     ✔️ [True]  \n",
       "3                        []                     ✔️ [True]  \n",
       "4                        []                     ✔️ [True]  \n",
       "..                      ...                           ...  \n",
       "195        [David, Campese]                     ✔️ [True]  \n",
       "196                      []                     ✔️ [True]  \n",
       "197  [Campese, Rob, Andrew]                     ✔️ [True]  \n",
       "198         [Campo, Andrew]                     ✔️ [True]  \n",
       "199                      []                     ✔️ [True]  \n",
       "\n",
       "[200 rows x 5 columns]"
      ]
     },
     "metadata": {},
     "output_type": "display_data"
    },
    {
     "data": {
      "text/plain": [
       "94.5"
      ]
     },
     "execution_count": 7,
     "metadata": {},
     "output_type": "execute_result"
    }
   ],
   "source": [
    "evaluate_correctness(optimized_people_extractor, devset=test_set)"
   ]
  },
  {
   "cell_type": "markdown",
   "id": "59947274",
   "metadata": {},
   "source": [
    "## Inspect Optimized Program's Prompt\n",
    "\n",
    "After optimizing the program, we can inspect the history of interactions to see how DSPy has augmented the program's prompt with few-shot examples. This step demonstrates:\n",
    "\n",
    "* The structure of the prompt used by the program.\n",
    "* How few-shot examples are added to guide the model's behavior.\n",
    "\n",
    "Use `inspect_history(n=1)` to view the last interaction and analyze the generated prompt."
   ]
  },
  {
   "cell_type": "code",
   "execution_count": null,
   "id": "0b9b4af5",
   "metadata": {},
   "outputs": [],
   "source": [
    "dspy.inspect_history(n=1)"
   ]
  },
  {
   "cell_type": "code",
   "execution_count": null,
   "id": "a4a99667",
   "metadata": {},
   "outputs": [],
   "source": [
    "cost = sum([x['cost'] for x in lm.history if x['cost'] is not None])  # cost in USD, as calculated by LiteLLM for certain providers\n",
    "cost"
   ]
  },
  {
   "cell_type": "markdown",
   "id": "1238f485",
   "metadata": {},
   "source": [
    "## Saving and Loading Optimized Programs\n",
    "\n",
    "DSPy supports saving and loading programs, enabling you to reuse optimized systems without the need to re-optimize from scratch. \n",
    "This feature is especially useful for deploying your programs in production environments or sharing them with collaborators.\n",
    "\n",
    "In this step, we'll save the optimized program to a file and demonstrate how to load it back for future use."
   ]
  },
  {
   "cell_type": "code",
   "execution_count": null,
   "id": "ec565965",
   "metadata": {},
   "outputs": [],
   "source": [
    "optimized_people_extractor.save(\"optimized_extractor.json\")\n",
    "\n",
    "loaded_people_extractor = dspy.ChainOfThought(PeopleExtraction)\n",
    "loaded_people_extractor.load(\"optimized_extractor.json\")\n",
    "\n",
    "loaded_people_extractor(tokens=[\"Italy\", \"recalled\", \"Marcello\", \"Cuttitta\"]).extracted_people"
   ]
  }
 ],
 "metadata": {
  "kernelspec": {
   "display_name": ".venv",
   "language": "python",
   "name": "python3"
  },
  "language_info": {
   "codemirror_mode": {
    "name": "ipython",
    "version": 3
   },
   "file_extension": ".py",
   "mimetype": "text/x-python",
   "name": "python",
   "nbconvert_exporter": "python",
   "pygments_lexer": "ipython3",
   "version": "3.11.5"
  }
 },
 "nbformat": 4,
 "nbformat_minor": 5
}
