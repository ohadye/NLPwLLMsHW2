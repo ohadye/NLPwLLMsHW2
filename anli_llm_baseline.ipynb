{
 "cells": [
  {
   "cell_type": "markdown",
   "id": "c468709d",
   "metadata": {},
   "source": [
    "# ANLI Baseline with LLM\n",
    "\n",
    "You have to implement in this notebook a baseline for ANLI classification using an LLM.\n",
    "This baseline must be implemented using DSPy.\n",
    "\n"
   ]
  },
  {
   "cell_type": "code",
   "execution_count": null,
   "id": "2cec0d02",
   "metadata": {},
   "outputs": [],
   "source": [
    "# Configure the DSPy environment with the language model - for grok the parameters must be:\n",
    "# env variable should be in os.environ['XAI_API_KEY']\n",
    "# \"xai/grok-3-mini\"\n",
    "# \"gemini/gemini-2.5-flash\"\n",
    "import os\n",
    "import dspy"
   ]
  },
  {
   "cell_type": "code",
   "execution_count": 21,
   "id": "c43b3646",
   "metadata": {},
   "outputs": [],
   "source": [
    "with open(\"grok_key.ini\") as f:\n",
    "        for line in f:\n",
    "            if \"XAI_API_KEY\" in line and not line.strip().startswith(\"#\"):\n",
    "                key_value = line.strip().split(\"=\")\n",
    "                if len(key_value) == 2:\n",
    "                    os.environ[\"XAI_API_KEY\"] = key_value[1].split()[0]\n",
    "\n",
    "with open(\"gemini_key.ini\") as f:\n",
    "        for line in f:\n",
    "            if \"GEMINI_API_KEY\" in line and not line.strip().startswith(\"#\"):\n",
    "                key_value = line.strip().split(\"=\")\n",
    "                if len(key_value) == 2:\n",
    "                    os.environ[\"GEMINI_API_KEY\"] = key_value[1].split()[0]"
   ]
  },
  {
   "cell_type": "code",
   "execution_count": 48,
   "id": "237b3272",
   "metadata": {},
   "outputs": [],
   "source": [
    "\n",
    "\n",
    "lm = dspy.LM('xai/grok-3-mini', api_key=os.environ['XAI_API_KEY'])\n",
    "# for ollama \n",
    "# lm = dspy.LM('ollama_chat/devstral', api_base='http://localhost:11434', api_key='')\n",
    "dspy.configure(lm=lm)"
   ]
  },
  {
   "cell_type": "code",
   "execution_count": 69,
   "id": "b60da44b",
   "metadata": {},
   "outputs": [],
   "source": [
    "from typing import Literal\n",
    "\n",
    "#defining the module\n",
    "class anli_classification_signature(dspy.Signature):\n",
    "\n",
    "    \"\"\"Lable the relationship between given premise and hypothesis.\"\"\"\n",
    "    \n",
    "    premise: str = dspy.InputField()\n",
    "    hypothesis: str = dspy.InputField()\n",
    "    label: Literal['entailment', 'contradiction', 'neutral'] = dspy.OutputField()\n",
    "    reason: str = dspy.OutputField()\n",
    "\n",
    "classify = dspy.ChainOfThought(anli_classification_signature)\n"
   ]
  },
  {
   "cell_type": "markdown",
   "id": "17ab422d",
   "metadata": {},
   "source": [
    "## Load ANLI dataset"
   ]
  },
  {
   "cell_type": "code",
   "execution_count": 32,
   "id": "0438789b",
   "metadata": {},
   "outputs": [],
   "source": [
    "from datasets import load_dataset\n",
    "\n",
    "dataset = load_dataset(\"facebook/anli\")\n",
    "dataset = dataset.filter(lambda x: x['reason'] != None and x['reason'] != \"\")"
   ]
  },
  {
   "cell_type": "code",
   "execution_count": 33,
   "id": "e59927ea",
   "metadata": {},
   "outputs": [
    {
     "data": {
      "text/plain": [
       "DatasetDict({\n",
       "    train_r1: Dataset({\n",
       "        features: ['uid', 'premise', 'hypothesis', 'label', 'reason'],\n",
       "        num_rows: 2923\n",
       "    })\n",
       "    dev_r1: Dataset({\n",
       "        features: ['uid', 'premise', 'hypothesis', 'label', 'reason'],\n",
       "        num_rows: 1000\n",
       "    })\n",
       "    test_r1: Dataset({\n",
       "        features: ['uid', 'premise', 'hypothesis', 'label', 'reason'],\n",
       "        num_rows: 1000\n",
       "    })\n",
       "    train_r2: Dataset({\n",
       "        features: ['uid', 'premise', 'hypothesis', 'label', 'reason'],\n",
       "        num_rows: 4861\n",
       "    })\n",
       "    dev_r2: Dataset({\n",
       "        features: ['uid', 'premise', 'hypothesis', 'label', 'reason'],\n",
       "        num_rows: 1000\n",
       "    })\n",
       "    test_r2: Dataset({\n",
       "        features: ['uid', 'premise', 'hypothesis', 'label', 'reason'],\n",
       "        num_rows: 1000\n",
       "    })\n",
       "    train_r3: Dataset({\n",
       "        features: ['uid', 'premise', 'hypothesis', 'label', 'reason'],\n",
       "        num_rows: 13375\n",
       "    })\n",
       "    dev_r3: Dataset({\n",
       "        features: ['uid', 'premise', 'hypothesis', 'label', 'reason'],\n",
       "        num_rows: 1200\n",
       "    })\n",
       "    test_r3: Dataset({\n",
       "        features: ['uid', 'premise', 'hypothesis', 'label', 'reason'],\n",
       "        num_rows: 1200\n",
       "    })\n",
       "})"
      ]
     },
     "execution_count": 33,
     "metadata": {},
     "output_type": "execute_result"
    }
   ],
   "source": [
    "dataset"
   ]
  },
  {
   "cell_type": "markdown",
   "id": "ea8e1258",
   "metadata": {},
   "source": [
    "## Evaluate Metrics\n",
    "\n",
    "Let's use the huggingface `evaluate` package to compute the performance of the baseline.\n"
   ]
  },
  {
   "cell_type": "code",
   "execution_count": 34,
   "id": "0e2e9027",
   "metadata": {},
   "outputs": [],
   "source": [
    "from evaluate import load\n",
    "\n",
    "accuracy = load(\"accuracy\")\n",
    "precision = load(\"precision\")\n",
    "recall = load(\"recall\")\n",
    "f1 = load(\"f1\")\n"
   ]
  },
  {
   "cell_type": "code",
   "execution_count": 35,
   "id": "1ab24e1b",
   "metadata": {},
   "outputs": [],
   "source": [
    "import evaluate\n",
    "clf_metrics = evaluate.combine([\"accuracy\", \"f1\", \"precision\", \"recall\"])"
   ]
  },
  {
   "cell_type": "code",
   "execution_count": 36,
   "id": "5d04f0c1",
   "metadata": {},
   "outputs": [
    {
     "data": {
      "text/plain": [
       "{'accuracy': 0.6666666666666666,\n",
       " 'f1': 0.6666666666666666,\n",
       " 'precision': 1.0,\n",
       " 'recall': 0.5}"
      ]
     },
     "execution_count": 36,
     "metadata": {},
     "output_type": "execute_result"
    }
   ],
   "source": [
    "clf_metrics.compute(predictions=[0, 1, 0], references=[0, 1, 1])"
   ]
  },
  {
   "cell_type": "markdown",
   "id": "0909d58b",
   "metadata": {},
   "source": [
    "## Your Turn\n",
    "\n",
    "Compute the classification metrics on the baseline LLM model on each test section of the ANLI dataset for samples that have a non-empty 'reason' field.\n",
    "\n",
    "You also must show a comparison between the DeBERTa baseline model and this LLM baseline model. The comparison metric should compute the agreement between the two models:\n",
    "* On how many samples they are both correct [Correct]\n",
    "* On how many samples Model1 is correct and Model2 is incorrect [Correct1]\n",
    "* On how many samples Model1 is incorrect and Model2 is correct [Correct2]\n",
    "* On how many samples both are incorrect [Incorrect]"
   ]
  },
  {
   "cell_type": "markdown",
   "id": "a51fbc81",
   "metadata": {},
   "source": []
  },
  {
   "cell_type": "markdown",
   "id": "9bf72bf6",
   "metadata": {},
   "source": []
  },
  {
   "cell_type": "code",
   "execution_count": 87,
   "id": "d3ba33cc",
   "metadata": {},
   "outputs": [],
   "source": [
    "from dspy.teleprompt import BootstrapFewShotWithRandomSearch\n",
    "\n",
    "label_map = {\n",
    "    \"entailment\": 0,\n",
    "    \"neutral\": 1,\n",
    "    \"contradiction\": 2\n",
    "}\n",
    "\n",
    "#defining metric for evaluation\n",
    "def binary_metrics(example, prediction, trace=None):\n",
    "    print(example.label)\n",
    "   # print(prediction[\"label\"])\n",
    "    return example.label == label_map[prediction[\"label\"]]\n",
    "\n",
    "example_trainset = []\n",
    "for example in dataset['dev_r3']:\n",
    "    example_trainset.append(dspy.Example(premise=example[\"premise\"], hypothesis=example[\"hypothesis\"], label=example[\"label\"], reason=example[\"reason\"]).with_inputs(\"premise\", \"hypothesis\"))\n",
    "    if len(example_trainset) >=50:\n",
    "        break\n",
    "\n",
    "\n"
   ]
  },
  {
   "cell_type": "code",
   "execution_count": 89,
   "id": "cef3d650",
   "metadata": {},
   "outputs": [
    {
     "name": "stdout",
     "output_type": "stream",
     "text": [
      "Going to sample between 1 and 4 traces per predictor.\n",
      "Will attempt to bootstrap 10 candidate sets.\n",
      "  0%|          | 0/50 [00:00<?, ?it/s]0\n",
      "Average Metric: 1.00 / 1 (100.0%):   2%|▏         | 1/50 [00:08<06:37,  8.11s/it]0\n",
      "Average Metric: 2.00 / 2 (100.0%):   4%|▍         | 2/50 [00:09<03:17,  4.12s/it]0\n",
      "Average Metric: 3.00 / 3 (100.0%):   6%|▌         | 3/50 [00:09<01:56,  2.47s/it]0\n",
      "Average Metric: 4.00 / 4 (100.0%):   8%|▊         | 4/50 [00:15<02:45,  3.60s/it]0\n",
      "Average Metric: 5.00 / 5 (100.0%):  10%|█         | 5/50 [00:18<02:31,  3.37s/it]0\n",
      "Average Metric: 6.00 / 6 (100.0%):  12%|█▏        | 6/50 [00:19<01:53,  2.57s/it]0\n",
      "Average Metric: 7.00 / 7 (100.0%):  14%|█▍        | 7/50 [00:20<01:30,  2.10s/it]0\n",
      "Average Metric: 8.00 / 8 (100.0%):  16%|█▌        | 8/50 [00:24<01:52,  2.67s/it]0\n",
      "Average Metric: 9.00 / 9 (100.0%):  18%|█▊        | 9/50 [00:27<02:02,  2.99s/it]0\n",
      "Average Metric: 9.00 / 10 (90.0%):  20%|██        | 10/50 [00:31<02:01,  3.05s/it]0\n",
      "Average Metric: 10.00 / 11 (90.9%):  22%|██▏       | 11/50 [00:33<01:50,  2.82s/it]0\n",
      "Average Metric: 11.00 / 12 (91.7%):  24%|██▍       | 12/50 [00:35<01:40,  2.63s/it]0\n",
      "Average Metric: 11.00 / 13 (84.6%):  26%|██▌       | 13/50 [00:42<02:19,  3.76s/it]0\n",
      "Average Metric: 11.00 / 14 (78.6%):  28%|██▊       | 14/50 [00:42<01:42,  2.84s/it]0\n",
      "Average Metric: 12.00 / 15 (80.0%):  30%|███       | 15/50 [00:45<01:38,  2.81s/it]0\n",
      "Average Metric: 12.00 / 16 (75.0%):  32%|███▏      | 16/50 [00:50<02:00,  3.54s/it]0\n",
      "Average Metric: 13.00 / 17 (76.5%):  34%|███▍      | 17/50 [00:52<01:35,  2.91s/it]0\n",
      "Average Metric: 14.00 / 18 (77.8%):  36%|███▌      | 18/50 [00:52<01:12,  2.25s/it]0\n",
      "Average Metric: 15.00 / 19 (78.9%):  38%|███▊      | 19/50 [00:57<01:30,  2.92s/it]0\n",
      "Average Metric: 15.00 / 20 (75.0%):  40%|████      | 20/50 [00:59<01:18,  2.63s/it]0\n",
      "Average Metric: 16.00 / 21 (76.2%):  42%|████▏     | 21/50 [01:02<01:18,  2.70s/it]0\n",
      "Average Metric: 16.00 / 22 (72.7%):  44%|████▍     | 22/50 [01:06<01:26,  3.10s/it]0\n",
      "Average Metric: 17.00 / 23 (73.9%):  46%|████▌     | 23/50 [01:08<01:14,  2.74s/it]0\n",
      "Average Metric: 17.00 / 24 (70.8%):  48%|████▊     | 24/50 [01:13<01:29,  3.43s/it]0\n",
      "Average Metric: 18.00 / 25 (72.0%):  50%|█████     | 25/50 [01:16<01:23,  3.35s/it]0\n",
      "Average Metric: 18.00 / 26 (69.2%):  52%|█████▏    | 26/50 [01:17<01:07,  2.80s/it]0\n",
      "Average Metric: 19.00 / 27 (70.4%):  54%|█████▍    | 27/50 [01:23<01:22,  3.57s/it]0\n",
      "Average Metric: 20.00 / 28 (71.4%):  56%|█████▌    | 28/50 [01:25<01:07,  3.06s/it]0\n",
      "Average Metric: 20.00 / 29 (69.0%):  58%|█████▊    | 29/50 [01:28<01:04,  3.07s/it]0\n",
      "Average Metric: 21.00 / 30 (70.0%):  60%|██████    | 30/50 [01:29<00:53,  2.67s/it]0\n",
      "Average Metric: 21.00 / 31 (67.7%):  62%|██████▏   | 31/50 [01:32<00:50,  2.65s/it]0\n",
      "Average Metric: 22.00 / 32 (68.8%):  64%|██████▍   | 32/50 [01:36<00:52,  2.92s/it]0\n",
      "Average Metric: 22.00 / 33 (66.7%):  66%|██████▌   | 33/50 [01:36<00:38,  2.25s/it]0\n",
      "Average Metric: 22.00 / 34 (64.7%):  68%|██████▊   | 34/50 [01:39<00:37,  2.37s/it]0\n",
      "Average Metric: 23.00 / 35 (65.7%):  70%|███████   | 35/50 [01:41<00:36,  2.43s/it]0\n",
      "Average Metric: 24.00 / 36 (66.7%):  72%|███████▏  | 36/50 [01:45<00:40,  2.87s/it]0\n",
      "Average Metric: 24.00 / 37 (64.9%):  74%|███████▍  | 37/50 [01:47<00:33,  2.59s/it]1\n",
      "Average Metric: 25.00 / 38 (65.8%):  76%|███████▌  | 38/50 [01:49<00:27,  2.33s/it]0\n",
      "Average Metric: 26.00 / 39 (66.7%):  78%|███████▊  | 39/50 [01:53<00:30,  2.80s/it]1\n",
      "Average Metric: 26.00 / 40 (65.0%):  80%|████████  | 40/50 [01:53<00:21,  2.12s/it]1\n",
      "Average Metric: 27.00 / 41 (65.9%):  82%|████████▏ | 41/50 [01:55<00:18,  2.07s/it]1\n",
      "Average Metric: 27.00 / 42 (64.3%):  84%|████████▍ | 42/50 [01:58<00:18,  2.37s/it]1\n",
      "Average Metric: 28.00 / 43 (65.1%):  86%|████████▌ | 43/50 [01:59<00:12,  1.78s/it]1\n",
      "Average Metric: 29.00 / 44 (65.9%):  88%|████████▊ | 44/50 [02:02<00:13,  2.22s/it]1\n",
      "Average Metric: 30.00 / 45 (66.7%):  90%|█████████ | 45/50 [02:03<00:09,  1.81s/it]1\n",
      "Average Metric: 31.00 / 46 (67.4%):  92%|█████████▏| 46/50 [02:06<00:09,  2.25s/it]1\n",
      "Average Metric: 32.00 / 47 (68.1%):  94%|█████████▍| 47/50 [02:11<00:08,  2.89s/it]1\n",
      "Average Metric: 33.00 / 48 (68.8%):  96%|█████████▌| 48/50 [02:12<00:04,  2.46s/it]1\n",
      "Average Metric: 33.00 / 49 (67.3%):  98%|█████████▊| 49/50 [02:15<00:02,  2.70s/it]1\n",
      "Average Metric: 34.00 / 50 (68.0%): 100%|██████████| 50/50 [02:21<00:00,  2.84s/it]"
     ]
    },
    {
     "name": "stderr",
     "output_type": "stream",
     "text": [
      "2025/08/05 17:07:06 INFO dspy.evaluate.evaluate: Average Metric: 34 / 50 (68.0%)\n"
     ]
    },
    {
     "name": "stdout",
     "output_type": "stream",
     "text": [
      "\n",
      "New best score: 68.0 for seed -3\n",
      "Scores so far: [68.0]\n",
      "Best score so far: 68.0\n",
      "  0%|          | 0/50 [00:00<?, ?it/s]0\n",
      "Average Metric: 1.00 / 1 (100.0%):   2%|▏         | 1/50 [00:05<04:24,  5.40s/it]0\n",
      "Average Metric: 2.00 / 2 (100.0%):   4%|▍         | 2/50 [00:06<02:23,  2.99s/it]0\n",
      "Average Metric: 3.00 / 3 (100.0%):   6%|▌         | 3/50 [00:09<02:07,  2.71s/it]0\n",
      "Average Metric: 4.00 / 4 (100.0%):   8%|▊         | 4/50 [00:09<01:24,  1.84s/it]0\n",
      "Average Metric: 5.00 / 5 (100.0%):  10%|█         | 5/50 [00:13<01:51,  2.47s/it]0\n",
      "Average Metric: 6.00 / 6 (100.0%):  12%|█▏        | 6/50 [00:15<01:39,  2.26s/it]0\n",
      "Average Metric: 7.00 / 7 (100.0%):  14%|█▍        | 7/50 [00:15<01:11,  1.65s/it]0\n",
      "Average Metric: 8.00 / 8 (100.0%):  16%|█▌        | 8/50 [00:18<01:24,  2.01s/it]0\n",
      "Average Metric: 9.00 / 9 (100.0%):  18%|█▊        | 9/50 [00:20<01:26,  2.12s/it]0\n",
      "Average Metric: 10.00 / 10 (100.0%):  20%|██        | 10/50 [00:21<01:13,  1.84s/it]0\n",
      "Average Metric: 10.00 / 11 (90.9%):  22%|██▏       | 11/50 [00:22<00:59,  1.53s/it] 0\n",
      "Average Metric: 11.00 / 12 (91.7%):  24%|██▍       | 12/50 [00:23<00:49,  1.31s/it]0\n",
      "Average Metric: 11.00 / 13 (84.6%):  26%|██▌       | 13/50 [00:29<01:38,  2.65s/it]0\n",
      "Average Metric: 12.00 / 14 (85.7%):  28%|██▊       | 14/50 [00:30<01:17,  2.17s/it]0\n",
      "Average Metric: 12.00 / 15 (80.0%):  30%|███       | 15/50 [00:34<01:40,  2.87s/it]0\n",
      "Average Metric: 13.00 / 16 (81.2%):  30%|███       | 15/50 [00:34<01:40,  2.87s/it]0\n",
      "Average Metric: 13.00 / 17 (76.5%):  34%|███▍      | 17/50 [00:38<01:22,  2.49s/it]0\n",
      "Average Metric: 13.00 / 18 (72.2%):  36%|███▌      | 18/50 [00:39<01:07,  2.10s/it]0\n",
      "Average Metric: 14.00 / 19 (73.7%):  38%|███▊      | 19/50 [00:41<00:58,  1.90s/it]0\n",
      "Average Metric: 15.00 / 20 (75.0%):  40%|████      | 20/50 [00:44<01:13,  2.45s/it]0\n",
      "Average Metric: 15.00 / 21 (71.4%):  42%|████▏     | 21/50 [00:46<01:07,  2.33s/it]0\n",
      "Average Metric: 16.00 / 22 (72.7%):  44%|████▍     | 22/50 [00:50<01:12,  2.60s/it]0\n",
      "Average Metric: 16.00 / 23 (69.6%):  46%|████▌     | 23/50 [00:53<01:15,  2.80s/it]0\n",
      "Average Metric: 17.00 / 24 (70.8%):  48%|████▊     | 24/50 [00:53<00:53,  2.04s/it]0\n",
      "Average Metric: 18.00 / 25 (72.0%):  50%|█████     | 25/50 [00:53<00:37,  1.50s/it]0\n",
      "Average Metric: 19.00 / 26 (73.1%):  52%|█████▏    | 26/50 [00:59<01:05,  2.75s/it]0\n",
      "Average Metric: 19.00 / 27 (70.4%):  54%|█████▍    | 27/50 [01:00<00:50,  2.21s/it]0\n",
      "Average Metric: 20.00 / 28 (71.4%):  56%|█████▌    | 28/50 [01:01<00:41,  1.89s/it]0\n",
      "Average Metric: 20.00 / 29 (69.0%):  58%|█████▊    | 29/50 [01:05<00:52,  2.51s/it]0\n",
      "Average Metric: 20.00 / 30 (66.7%):  60%|██████    | 30/50 [01:09<00:57,  2.87s/it]0\n",
      "Average Metric: 21.00 / 31 (67.7%):  60%|██████    | 30/50 [01:09<00:57,  2.87s/it]0\n",
      "Average Metric: 21.00 / 32 (65.6%):  64%|██████▍   | 32/50 [01:11<00:37,  2.07s/it]0\n",
      "Average Metric: 22.00 / 33 (66.7%):  66%|██████▌   | 33/50 [01:13<00:34,  2.03s/it]0\n",
      "Average Metric: 23.00 / 34 (67.6%):  68%|██████▊   | 34/50 [01:17<00:40,  2.52s/it]0\n",
      "Average Metric: 23.00 / 35 (65.7%):  70%|███████   | 35/50 [01:19<00:34,  2.31s/it]0\n",
      "Average Metric: 24.00 / 36 (66.7%):  72%|███████▏  | 36/50 [01:22<00:37,  2.69s/it]0\n",
      "Average Metric: 24.00 / 37 (64.9%):  74%|███████▍  | 37/50 [01:23<00:26,  2.04s/it]1\n",
      "Average Metric: 25.00 / 38 (65.8%):  76%|███████▌  | 38/50 [01:25<00:24,  2.04s/it]0\n",
      "Average Metric: 25.00 / 39 (64.1%):  78%|███████▊  | 39/50 [01:26<00:18,  1.69s/it]1\n",
      "Average Metric: 26.00 / 40 (65.0%):  80%|████████  | 40/50 [01:30<00:25,  2.58s/it]1\n",
      "Average Metric: 26.00 / 41 (63.4%):  82%|████████▏ | 41/50 [01:31<00:17,  1.94s/it]1\n",
      "Average Metric: 27.00 / 42 (64.3%):  84%|████████▍ | 42/50 [01:31<00:12,  1.54s/it]1\n",
      "Average Metric: 27.00 / 43 (62.8%):  86%|████████▌ | 43/50 [01:36<00:18,  2.58s/it]1\n",
      "Average Metric: 28.00 / 44 (63.6%):  88%|████████▊ | 44/50 [01:37<00:11,  1.96s/it]1\n",
      "Average Metric: 28.00 / 45 (62.2%):  90%|█████████ | 45/50 [01:37<00:07,  1.42s/it]1\n",
      "Average Metric: 28.00 / 46 (60.9%):  92%|█████████▏| 46/50 [01:37<00:04,  1.10s/it]1\n",
      "Average Metric: 28.00 / 47 (59.6%):  94%|█████████▍| 47/50 [01:43<00:07,  2.43s/it]1\n",
      "Average Metric: 29.00 / 48 (60.4%):  96%|█████████▌| 48/50 [01:44<00:03,  1.89s/it]1\n",
      "Average Metric: 30.00 / 49 (61.2%):  96%|█████████▌| 48/50 [01:44<00:03,  1.89s/it]1\n",
      "Average Metric: 30.00 / 50 (60.0%): 100%|██████████| 50/50 [01:45<00:00,  2.11s/it]"
     ]
    },
    {
     "name": "stderr",
     "output_type": "stream",
     "text": [
      "2025/08/05 17:08:52 INFO dspy.evaluate.evaluate: Average Metric: 30 / 50 (60.0%)\n"
     ]
    },
    {
     "name": "stdout",
     "output_type": "stream",
     "text": [
      "\n",
      "Scores so far: [68.0, 60.0]\n",
      "Best score so far: 68.0\n"
     ]
    },
    {
     "name": "stderr",
     "output_type": "stream",
     "text": [
      "  0%|          | 0/50 [00:00<?, ?it/s]"
     ]
    },
    {
     "name": "stdout",
     "output_type": "stream",
     "text": [
      "0\n",
      "0\n"
     ]
    },
    {
     "name": "stderr",
     "output_type": "stream",
     "text": [
      "  8%|▊         | 4/50 [00:10<02:02,  2.66s/it]\n"
     ]
    },
    {
     "name": "stdout",
     "output_type": "stream",
     "text": [
      "0\n",
      "0\n",
      "Bootstrapped 4 full traces after 4 examples for up to 1 rounds, amounting to 4 attempts.\n",
      "  0%|          | 0/50 [00:00<?, ?it/s]0\n",
      "Average Metric: 1.00 / 1 (100.0%):   2%|▏         | 1/50 [00:05<04:05,  5.02s/it]0\n",
      "Average Metric: 2.00 / 2 (100.0%):   2%|▏         | 1/50 [00:05<04:05,  5.02s/it]0\n",
      "Average Metric: 3.00 / 3 (100.0%):   6%|▌         | 3/50 [00:06<01:18,  1.67s/it]0\n",
      "Average Metric: 4.00 / 4 (100.0%):   8%|▊         | 4/50 [00:08<01:22,  1.78s/it]0\n",
      "Average Metric: 5.00 / 5 (100.0%):  10%|█         | 5/50 [00:10<01:37,  2.16s/it]0\n",
      "Average Metric: 6.00 / 6 (100.0%):  12%|█▏        | 6/50 [00:12<01:26,  1.96s/it]0\n",
      "Average Metric: 7.00 / 7 (100.0%):  14%|█▍        | 7/50 [00:14<01:19,  1.86s/it]0\n",
      "Average Metric: 8.00 / 8 (100.0%):  16%|█▌        | 8/50 [00:17<01:31,  2.19s/it]0\n",
      "0\n",
      "Average Metric: 9.00 / 10 (90.0%):  18%|█▊        | 9/50 [00:20<01:41,  2.48s/it]0\n",
      "Average Metric: 9.00 / 11 (81.8%):  20%|██        | 10/50 [00:20<01:39,  2.48s/it]0\n",
      "Average Metric: 10.00 / 12 (83.3%):  24%|██▍       | 12/50 [00:26<01:25,  2.25s/it]0\n",
      "Average Metric: 10.00 / 13 (76.9%):  26%|██▌       | 13/50 [00:28<01:24,  2.28s/it]0\n",
      "Average Metric: 11.00 / 14 (78.6%):  28%|██▊       | 14/50 [00:29<01:12,  2.03s/it]0\n",
      "Average Metric: 12.00 / 15 (80.0%):  30%|███       | 15/50 [00:31<01:08,  1.95s/it]0\n",
      "Average Metric: 12.00 / 16 (75.0%):  32%|███▏      | 16/50 [00:35<01:21,  2.38s/it]0\n",
      "Average Metric: 13.00 / 17 (76.5%):  34%|███▍      | 17/50 [00:35<00:59,  1.82s/it]0\n",
      "Average Metric: 14.00 / 18 (77.8%):  36%|███▌      | 18/50 [00:38<01:07,  2.11s/it]0\n",
      "Average Metric: 15.00 / 19 (78.9%):  38%|███▊      | 19/50 [00:39<00:54,  1.77s/it]0\n",
      "Average Metric: 16.00 / 20 (80.0%):  40%|████      | 20/50 [00:40<00:47,  1.59s/it]0\n",
      "Average Metric: 17.00 / 21 (81.0%):  42%|████▏     | 21/50 [00:44<01:09,  2.41s/it]0\n",
      "Average Metric: 18.00 / 22 (81.8%):  44%|████▍     | 22/50 [00:45<00:50,  1.79s/it]0\n",
      "Average Metric: 19.00 / 23 (82.6%):  46%|████▌     | 23/50 [00:48<00:57,  2.14s/it]0\n",
      "Average Metric: 20.00 / 24 (83.3%):  48%|████▊     | 24/50 [00:50<00:54,  2.11s/it]0\n",
      "Average Metric: 20.00 / 25 (80.0%):  50%|█████     | 25/50 [00:52<00:53,  2.13s/it]0\n",
      "Average Metric: 21.00 / 26 (80.8%):  52%|█████▏    | 26/50 [00:53<00:42,  1.77s/it]0\n",
      "Average Metric: 21.00 / 27 (77.8%):  54%|█████▍    | 27/50 [00:54<00:37,  1.63s/it]0\n",
      "Average Metric: 22.00 / 28 (78.6%):  56%|█████▌    | 28/50 [00:59<00:54,  2.49s/it]0\n",
      "Average Metric: 23.00 / 29 (79.3%):  58%|█████▊    | 29/50 [01:00<00:43,  2.05s/it]0\n",
      "Average Metric: 24.00 / 30 (80.0%):  58%|█████▊    | 29/50 [01:00<00:43,  2.05s/it]0\n",
      "Average Metric: 24.00 / 31 (77.4%):  62%|██████▏   | 31/50 [01:04<00:41,  2.19s/it]0\n",
      "0\n",
      "Average Metric: 24.00 / 33 (72.7%):  64%|██████▍   | 32/50 [01:06<00:38,  2.16s/it]0\n",
      "Average Metric: 24.00 / 34 (70.6%):  68%|██████▊   | 34/50 [01:09<00:27,  1.73s/it]0\n",
      "Average Metric: 25.00 / 35 (71.4%):  70%|███████   | 35/50 [01:11<00:27,  1.80s/it]0\n",
      "Average Metric: 26.00 / 36 (72.2%):  72%|███████▏  | 36/50 [01:12<00:25,  1.79s/it]0\n",
      "Average Metric: 26.00 / 37 (70.3%):  74%|███████▍  | 37/50 [01:14<00:23,  1.83s/it]1\n",
      "Average Metric: 27.00 / 38 (71.1%):  76%|███████▌  | 38/50 [01:18<00:26,  2.17s/it]1\n",
      "Average Metric: 27.00 / 39 (69.2%):  78%|███████▊  | 39/50 [01:18<00:18,  1.70s/it]1\n",
      "Average Metric: 28.00 / 40 (70.0%):  80%|████████  | 40/50 [01:21<00:22,  2.21s/it]1\n",
      "Average Metric: 28.00 / 41 (68.3%):  82%|████████▏ | 41/50 [01:25<00:22,  2.49s/it]1\n",
      "Average Metric: 29.00 / 42 (69.0%):  84%|████████▍ | 42/50 [01:25<00:15,  1.88s/it]1\n",
      "Average Metric: 30.00 / 43 (69.8%):  86%|████████▌ | 43/50 [01:30<00:19,  2.80s/it]1\n",
      "Average Metric: 31.00 / 44 (70.5%):  88%|████████▊ | 44/50 [01:31<00:13,  2.22s/it]1\n",
      "Average Metric: 31.00 / 45 (68.9%):  90%|█████████ | 45/50 [01:31<00:07,  1.60s/it]1\n",
      "Average Metric: 32.00 / 46 (69.6%):  92%|█████████▏| 46/50 [01:38<00:12,  3.07s/it]1\n",
      "Average Metric: 33.00 / 47 (70.2%):  94%|█████████▍| 47/50 [01:40<00:08,  2.73s/it]1\n",
      "Average Metric: 33.00 / 48 (68.8%):  96%|█████████▌| 48/50 [01:40<00:03,  1.97s/it]1\n",
      "Average Metric: 33.00 / 49 (67.3%):  98%|█████████▊| 49/50 [01:46<00:03,  3.38s/it]0\n",
      "Average Metric: 34.00 / 50 (68.0%): 100%|██████████| 50/50 [02:34<00:00,  3.09s/it]"
     ]
    },
    {
     "name": "stderr",
     "output_type": "stream",
     "text": [
      "2025/08/05 17:11:37 INFO dspy.evaluate.evaluate: Average Metric: 34 / 50 (68.0%)\n"
     ]
    },
    {
     "name": "stdout",
     "output_type": "stream",
     "text": [
      "\n",
      "Scores so far: [68.0, 60.0, 68.0]\n",
      "Best score so far: 68.0\n"
     ]
    },
    {
     "name": "stderr",
     "output_type": "stream",
     "text": [
      "  2%|▏         | 1/50 [00:08<06:33,  8.04s/it]"
     ]
    },
    {
     "name": "stdout",
     "output_type": "stream",
     "text": [
      "1\n"
     ]
    },
    {
     "name": "stderr",
     "output_type": "stream",
     "text": [
      "  4%|▍         | 2/50 [00:17<07:11,  8.99s/it]"
     ]
    },
    {
     "name": "stdout",
     "output_type": "stream",
     "text": [
      "0\n"
     ]
    },
    {
     "name": "stderr",
     "output_type": "stream",
     "text": [
      "  6%|▌         | 3/50 [00:28<07:51, 10.03s/it]"
     ]
    },
    {
     "name": "stdout",
     "output_type": "stream",
     "text": [
      "0\n"
     ]
    },
    {
     "name": "stderr",
     "output_type": "stream",
     "text": [
      "  8%|▊         | 4/50 [00:35<06:36,  8.62s/it]"
     ]
    },
    {
     "name": "stdout",
     "output_type": "stream",
     "text": [
      "0\n"
     ]
    },
    {
     "name": "stderr",
     "output_type": "stream",
     "text": [
      " 10%|█         | 5/50 [00:41<05:54,  7.87s/it]"
     ]
    },
    {
     "name": "stdout",
     "output_type": "stream",
     "text": [
      "0\n"
     ]
    },
    {
     "name": "stderr",
     "output_type": "stream",
     "text": [
      " 12%|█▏        | 6/50 [00:49<05:45,  7.84s/it]"
     ]
    },
    {
     "name": "stdout",
     "output_type": "stream",
     "text": [
      "0\n"
     ]
    },
    {
     "name": "stderr",
     "output_type": "stream",
     "text": [
      " 14%|█▍        | 7/50 [00:59<06:05,  8.50s/it]\n"
     ]
    },
    {
     "name": "stdout",
     "output_type": "stream",
     "text": [
      "0\n",
      "Bootstrapped 4 full traces after 7 examples for up to 1 rounds, amounting to 7 attempts.\n",
      "  0%|          | 0/50 [00:00<?, ?it/s]0\n",
      "Average Metric: 1.00 / 1 (100.0%):   2%|▏         | 1/50 [00:05<04:18,  5.28s/it]0\n",
      "Average Metric: 2.00 / 2 (100.0%):   4%|▍         | 2/50 [00:05<02:01,  2.54s/it]0\n",
      "Average Metric: 3.00 / 3 (100.0%):   6%|▌         | 3/50 [00:07<01:33,  1.99s/it]0\n",
      "Average Metric: 4.00 / 4 (100.0%):   8%|▊         | 4/50 [00:09<01:32,  2.01s/it]0\n",
      "Average Metric: 5.00 / 5 (100.0%):  10%|█         | 5/50 [00:10<01:24,  1.87s/it]0\n",
      "Average Metric: 6.00 / 6 (100.0%):  12%|█▏        | 6/50 [00:11<01:02,  1.41s/it]0\n",
      "Average Metric: 7.00 / 7 (100.0%):  14%|█▍        | 7/50 [00:14<01:27,  2.02s/it]0\n",
      "Average Metric: 8.00 / 8 (100.0%):  16%|█▌        | 8/50 [00:14<01:00,  1.45s/it]0\n",
      "Average Metric: 8.00 / 9 (88.9%):  18%|█▊        | 9/50 [00:17<01:08,  1.66s/it] 0\n",
      "Average Metric: 9.00 / 10 (90.0%):  20%|██        | 10/50 [00:17<00:50,  1.26s/it]0\n",
      "Average Metric: 10.00 / 11 (90.9%):  22%|██▏       | 11/50 [00:19<01:02,  1.61s/it]0\n",
      "Average Metric: 10.00 / 12 (83.3%):  24%|██▍       | 12/50 [00:20<00:50,  1.34s/it]0\n",
      "Average Metric: 11.00 / 13 (84.6%):  26%|██▌       | 13/50 [00:24<01:21,  2.21s/it]0\n",
      "Average Metric: 12.00 / 14 (85.7%):  28%|██▊       | 14/50 [00:27<01:25,  2.38s/it]0\n",
      "Average Metric: 12.00 / 15 (80.0%):  30%|███       | 15/50 [00:27<01:01,  1.77s/it]0\n",
      "Average Metric: 13.00 / 16 (81.2%):  32%|███▏      | 16/50 [00:29<00:56,  1.65s/it]0\n",
      "Average Metric: 14.00 / 17 (82.4%):  34%|███▍      | 17/50 [00:31<01:04,  1.95s/it]0\n",
      "Average Metric: 14.00 / 18 (77.8%):  36%|███▌      | 18/50 [00:32<00:48,  1.52s/it]0\n",
      "Average Metric: 15.00 / 19 (78.9%):  38%|███▊      | 19/50 [00:33<00:46,  1.49s/it]0\n",
      "Average Metric: 16.00 / 20 (80.0%):  40%|████      | 20/50 [00:34<00:33,  1.12s/it]0\n",
      "Average Metric: 17.00 / 21 (81.0%):  42%|████▏     | 21/50 [00:38<00:58,  2.00s/it]0\n",
      "Average Metric: 18.00 / 22 (81.8%):  44%|████▍     | 22/50 [00:39<00:52,  1.88s/it]0\n",
      "Average Metric: 19.00 / 23 (82.6%):  46%|████▌     | 23/50 [00:42<00:54,  2.03s/it]0\n",
      "Average Metric: 20.00 / 24 (83.3%):  48%|████▊     | 24/50 [00:42<00:41,  1.61s/it]0\n",
      "Average Metric: 21.00 / 25 (84.0%):  50%|█████     | 25/50 [00:46<00:58,  2.35s/it]0\n",
      "Average Metric: 21.00 / 26 (80.8%):  52%|█████▏    | 26/50 [00:47<00:45,  1.90s/it]0\n",
      "Average Metric: 22.00 / 27 (81.5%):  54%|█████▍    | 27/50 [00:49<00:41,  1.78s/it]0\n",
      "Average Metric: 22.00 / 28 (78.6%):  56%|█████▌    | 28/50 [00:50<00:36,  1.65s/it]0\n",
      "Average Metric: 23.00 / 29 (79.3%):  58%|█████▊    | 29/50 [00:51<00:30,  1.43s/it]0\n",
      "Average Metric: 24.00 / 30 (80.0%):  60%|██████    | 30/50 [00:54<00:35,  1.77s/it]0\n",
      "Average Metric: 24.00 / 31 (77.4%):  62%|██████▏   | 31/50 [00:56<00:37,  1.97s/it]0\n",
      "Average Metric: 24.00 / 32 (75.0%):  62%|██████▏   | 31/50 [00:56<00:37,  1.97s/it]0\n",
      "Average Metric: 24.00 / 33 (72.7%):  66%|██████▌   | 33/50 [01:00<00:32,  1.89s/it]0\n",
      "Average Metric: 24.00 / 34 (70.6%):  68%|██████▊   | 34/50 [01:00<00:24,  1.53s/it]0\n",
      "Average Metric: 25.00 / 35 (71.4%):  70%|███████   | 35/50 [01:03<00:26,  1.80s/it]0\n",
      "Average Metric: 26.00 / 36 (72.2%):  72%|███████▏  | 36/50 [01:03<00:18,  1.34s/it]0\n",
      "Average Metric: 26.00 / 37 (70.3%):  74%|███████▍  | 37/50 [01:08<00:30,  2.36s/it]1\n",
      "Average Metric: 26.00 / 38 (68.4%):  76%|███████▌  | 38/50 [01:08<00:21,  1.81s/it]1\n",
      "Average Metric: 27.00 / 39 (69.2%):  76%|███████▌  | 38/50 [01:08<00:21,  1.81s/it]1\n",
      "Average Metric: 28.00 / 40 (70.0%):  80%|████████  | 40/50 [01:13<00:21,  2.12s/it]1\n",
      "Average Metric: 28.00 / 41 (68.3%):  82%|████████▏ | 41/50 [01:14<00:15,  1.71s/it]1\n",
      "Average Metric: 29.00 / 42 (69.0%):  84%|████████▍ | 42/50 [01:14<00:10,  1.35s/it]1\n",
      "Average Metric: 30.00 / 43 (69.8%):  86%|████████▌ | 43/50 [01:19<00:16,  2.36s/it]0\n",
      "Average Metric: 31.00 / 44 (70.5%):  88%|████████▊ | 44/50 [01:19<00:10,  1.74s/it]1\n",
      "Average Metric: 31.00 / 45 (68.9%):  90%|█████████ | 45/50 [01:20<00:06,  1.39s/it]1\n",
      "Average Metric: 32.00 / 46 (69.6%):  92%|█████████▏| 46/50 [01:20<00:04,  1.11s/it]1\n",
      "Average Metric: 33.00 / 47 (70.2%):  94%|█████████▍| 47/50 [01:25<00:06,  2.27s/it]1\n",
      "Average Metric: 34.00 / 48 (70.8%):  96%|█████████▌| 48/50 [01:26<00:03,  1.75s/it]1\n",
      "Average Metric: 34.00 / 49 (69.4%):  96%|█████████▌| 48/50 [01:26<00:03,  1.75s/it]1\n",
      "Average Metric: 34.00 / 50 (68.0%): 100%|██████████| 50/50 [01:27<00:00,  1.75s/it]"
     ]
    },
    {
     "name": "stderr",
     "output_type": "stream",
     "text": [
      "2025/08/05 17:14:04 INFO dspy.evaluate.evaluate: Average Metric: 34 / 50 (68.0%)\n"
     ]
    },
    {
     "name": "stdout",
     "output_type": "stream",
     "text": [
      "\n",
      "Scores so far: [68.0, 60.0, 68.0, 68.0]\n",
      "Best score so far: 68.0\n"
     ]
    },
    {
     "name": "stderr",
     "output_type": "stream",
     "text": [
      "  2%|▏         | 1/50 [00:05<04:40,  5.72s/it]"
     ]
    },
    {
     "name": "stdout",
     "output_type": "stream",
     "text": [
      "0\n"
     ]
    },
    {
     "name": "stderr",
     "output_type": "stream",
     "text": [
      "  4%|▍         | 2/50 [00:12<04:59,  6.24s/it]\n"
     ]
    },
    {
     "name": "stdout",
     "output_type": "stream",
     "text": [
      "0\n",
      "Bootstrapped 2 full traces after 2 examples for up to 1 rounds, amounting to 2 attempts.\n",
      "  0%|          | 0/50 [00:00<?, ?it/s]0\n",
      "Average Metric: 1.00 / 1 (100.0%):   2%|▏         | 1/50 [00:05<04:46,  5.85s/it]0\n",
      "Average Metric: 2.00 / 2 (100.0%):   4%|▍         | 2/50 [00:06<02:04,  2.59s/it]0\n",
      "Average Metric: 3.00 / 3 (100.0%):   6%|▌         | 3/50 [00:06<01:19,  1.69s/it]0\n",
      "Average Metric: 4.00 / 4 (100.0%):   8%|▊         | 4/50 [00:07<00:54,  1.19s/it]0\n",
      "Average Metric: 5.00 / 5 (100.0%):  10%|█         | 5/50 [00:12<02:05,  2.79s/it]0\n",
      "Average Metric: 6.00 / 6 (100.0%):  12%|█▏        | 6/50 [00:13<01:27,  1.98s/it]0\n",
      "Average Metric: 7.00 / 7 (100.0%):  14%|█▍        | 7/50 [00:14<01:21,  1.90s/it]0\n",
      "Average Metric: 8.00 / 8 (100.0%):  16%|█▌        | 8/50 [00:16<01:10,  1.69s/it]0\n",
      "Average Metric: 9.00 / 9 (100.0%):  18%|█▊        | 9/50 [00:18<01:14,  1.82s/it]0\n",
      "Average Metric: 9.00 / 10 (90.0%):  20%|██        | 10/50 [00:19<01:04,  1.62s/it]0\n",
      "Average Metric: 10.00 / 11 (90.9%):  22%|██▏       | 11/50 [00:21<01:04,  1.65s/it]0\n",
      "Average Metric: 10.00 / 12 (83.3%):  24%|██▍       | 12/50 [00:27<01:55,  3.04s/it]0\n",
      "Average Metric: 10.00 / 13 (76.9%):  26%|██▌       | 13/50 [00:28<01:33,  2.54s/it]0\n",
      "Average Metric: 11.00 / 14 (78.6%):  28%|██▊       | 14/50 [00:29<01:09,  1.93s/it]0\n",
      "Average Metric: 11.00 / 15 (73.3%):  30%|███       | 15/50 [00:31<01:11,  2.06s/it]0\n",
      "Average Metric: 12.00 / 16 (75.0%):  32%|███▏      | 16/50 [00:32<01:00,  1.78s/it]0\n",
      "Average Metric: 12.00 / 17 (70.6%):  34%|███▍      | 17/50 [00:35<01:03,  1.92s/it]0\n",
      "Average Metric: 12.00 / 18 (66.7%):  36%|███▌      | 18/50 [00:36<00:52,  1.65s/it]0\n",
      "Average Metric: 13.00 / 19 (68.4%):  38%|███▊      | 19/50 [00:37<00:51,  1.65s/it]0\n",
      "Average Metric: 14.00 / 20 (70.0%):  40%|████      | 20/50 [00:38<00:41,  1.40s/it]0\n",
      "Average Metric: 14.00 / 21 (66.7%):  42%|████▏     | 21/50 [00:43<01:07,  2.33s/it]0\n",
      "Average Metric: 15.00 / 22 (68.2%):  44%|████▍     | 22/50 [00:44<00:56,  2.01s/it]0\n",
      "Average Metric: 16.00 / 23 (69.6%):  46%|████▌     | 23/50 [00:44<00:43,  1.60s/it]0\n",
      "Average Metric: 16.00 / 24 (66.7%):  48%|████▊     | 24/50 [00:45<00:32,  1.26s/it]0\n",
      "Average Metric: 17.00 / 25 (68.0%):  50%|█████     | 25/50 [00:49<00:53,  2.14s/it]0\n",
      "Average Metric: 17.00 / 26 (65.4%):  52%|█████▏    | 26/50 [00:51<00:46,  1.93s/it]0\n",
      "Average Metric: 17.00 / 27 (63.0%):  54%|█████▍    | 27/50 [00:54<00:55,  2.43s/it]0\n",
      "Average Metric: 18.00 / 28 (64.3%):  56%|█████▌    | 28/50 [00:56<00:48,  2.19s/it]0\n",
      "Average Metric: 18.00 / 29 (62.1%):  58%|█████▊    | 29/50 [00:58<00:46,  2.21s/it]0\n",
      "Average Metric: 19.00 / 30 (63.3%):  60%|██████    | 30/50 [00:59<00:36,  1.84s/it]0\n",
      "Average Metric: 19.00 / 31 (61.3%):  62%|██████▏   | 31/50 [01:02<00:39,  2.07s/it]0\n",
      "Average Metric: 19.00 / 32 (59.4%):  64%|██████▍   | 32/50 [01:02<00:31,  1.73s/it]0\n",
      "Average Metric: 19.00 / 33 (57.6%):  66%|██████▌   | 33/50 [01:05<00:32,  1.92s/it]0\n",
      "Average Metric: 19.00 / 34 (55.9%):  68%|██████▊   | 34/50 [01:05<00:24,  1.52s/it]0\n",
      "Average Metric: 20.00 / 35 (57.1%):  68%|██████▊   | 34/50 [01:08<00:24,  1.52s/it]0\n",
      "Average Metric: 21.00 / 36 (58.3%):  70%|███████   | 35/50 [01:08<00:29,  1.96s/it]0\n",
      "Average Metric: 21.00 / 37 (56.8%):  74%|███████▍  | 37/50 [01:12<00:25,  1.95s/it]1\n",
      "Average Metric: 21.00 / 38 (55.3%):  76%|███████▌  | 38/50 [01:15<00:25,  2.10s/it]0\n",
      "Average Metric: 22.00 / 39 (56.4%):  78%|███████▊  | 39/50 [01:15<00:18,  1.66s/it]1\n",
      "Average Metric: 23.00 / 40 (57.5%):  80%|████████  | 40/50 [01:17<00:16,  1.63s/it]1\n",
      "Average Metric: 24.00 / 41 (58.5%):  82%|████████▏ | 41/50 [01:19<00:17,  1.92s/it]1\n",
      "Average Metric: 24.00 / 42 (57.1%):  84%|████████▍ | 42/50 [01:21<00:14,  1.84s/it]1\n",
      "Average Metric: 25.00 / 43 (58.1%):  86%|████████▌ | 43/50 [01:23<00:12,  1.72s/it]1\n",
      "Average Metric: 26.00 / 44 (59.1%):  88%|████████▊ | 44/50 [01:24<00:09,  1.58s/it]1\n",
      "Average Metric: 27.00 / 45 (60.0%):  90%|█████████ | 45/50 [01:24<00:06,  1.23s/it]1\n",
      "Average Metric: 27.00 / 46 (58.7%):  92%|█████████▏| 46/50 [01:28<00:08,  2.11s/it]1\n",
      "Average Metric: 28.00 / 47 (59.6%):  94%|█████████▍| 47/50 [01:32<00:07,  2.42s/it]1\n",
      "Average Metric: 28.00 / 48 (58.3%):  96%|█████████▌| 48/50 [01:32<00:03,  1.82s/it]1\n",
      "Average Metric: 28.00 / 49 (57.1%):  98%|█████████▊| 49/50 [01:35<00:02,  2.11s/it]1\n",
      "Average Metric: 29.00 / 50 (58.0%): 100%|██████████| 50/50 [01:37<00:00,  1.95s/it]"
     ]
    },
    {
     "name": "stderr",
     "output_type": "stream",
     "text": [
      "2025/08/05 17:15:54 INFO dspy.evaluate.evaluate: Average Metric: 29 / 50 (58.0%)\n"
     ]
    },
    {
     "name": "stdout",
     "output_type": "stream",
     "text": [
      "\n",
      "Scores so far: [68.0, 60.0, 68.0, 68.0, 58.0]\n",
      "Best score so far: 68.0\n"
     ]
    },
    {
     "name": "stderr",
     "output_type": "stream",
     "text": [
      "  2%|▏         | 1/50 [00:08<07:00,  8.58s/it]"
     ]
    },
    {
     "name": "stdout",
     "output_type": "stream",
     "text": [
      "0\n"
     ]
    },
    {
     "name": "stderr",
     "output_type": "stream",
     "text": [
      "  4%|▍         | 2/50 [00:16<06:41,  8.37s/it]"
     ]
    },
    {
     "name": "stdout",
     "output_type": "stream",
     "text": [
      "0\n"
     ]
    },
    {
     "name": "stderr",
     "output_type": "stream",
     "text": [
      "  6%|▌         | 3/50 [00:24<06:20,  8.09s/it]"
     ]
    },
    {
     "name": "stdout",
     "output_type": "stream",
     "text": [
      "1\n"
     ]
    },
    {
     "name": "stderr",
     "output_type": "stream",
     "text": [
      "  8%|▊         | 4/50 [00:31<05:58,  7.80s/it]\n"
     ]
    },
    {
     "name": "stdout",
     "output_type": "stream",
     "text": [
      "0\n",
      "Bootstrapped 1 full traces after 4 examples for up to 1 rounds, amounting to 4 attempts.\n",
      "  0%|          | 0/50 [00:00<?, ?it/s]0\n",
      "Average Metric: 1.00 / 1 (100.0%):   2%|▏         | 1/50 [00:06<05:09,  6.32s/it]0\n",
      "Average Metric: 1.00 / 2 (50.0%):   4%|▍         | 2/50 [00:06<02:13,  2.79s/it] 0\n",
      "Average Metric: 2.00 / 3 (66.7%):   4%|▍         | 2/50 [00:06<02:13,  2.79s/it]0\n",
      "Average Metric: 3.00 / 4 (75.0%):   8%|▊         | 4/50 [00:09<01:24,  1.84s/it]0\n",
      "Average Metric: 4.00 / 5 (80.0%):  10%|█         | 5/50 [00:12<01:45,  2.35s/it]0\n",
      "Average Metric: 5.00 / 6 (83.3%):  12%|█▏        | 6/50 [00:13<01:28,  2.00s/it]0\n",
      "Average Metric: 6.00 / 7 (85.7%):  14%|█▍        | 7/50 [00:14<01:04,  1.49s/it]0\n",
      "Average Metric: 7.00 / 8 (87.5%):  16%|█▌        | 8/50 [00:14<00:47,  1.13s/it]0\n",
      "Average Metric: 7.00 / 9 (77.8%):  18%|█▊        | 9/50 [00:18<01:27,  2.13s/it]0\n",
      "Average Metric: 7.00 / 10 (70.0%):  20%|██        | 10/50 [00:19<01:11,  1.78s/it]0\n",
      "Average Metric: 8.00 / 11 (72.7%):  22%|██▏       | 11/50 [00:20<00:50,  1.29s/it]0\n",
      "Average Metric: 9.00 / 12 (75.0%):  24%|██▍       | 12/50 [00:21<00:50,  1.32s/it]0\n",
      "Average Metric: 10.00 / 13 (76.9%):  26%|██▌       | 13/50 [00:26<01:25,  2.31s/it]0\n",
      "Average Metric: 10.00 / 14 (71.4%):  28%|██▊       | 14/50 [00:26<00:59,  1.66s/it]0\n",
      "Average Metric: 11.00 / 15 (73.3%):  30%|███       | 15/50 [00:27<00:49,  1.43s/it]0\n",
      "Average Metric: 12.00 / 16 (75.0%):  32%|███▏      | 16/50 [00:28<00:51,  1.52s/it]0\n",
      "Average Metric: 12.00 / 17 (70.6%):  34%|███▍      | 17/50 [00:31<00:58,  1.77s/it]0\n",
      "0\n",
      "Average Metric: 14.00 / 19 (73.7%):  36%|███▌      | 18/50 [00:34<01:11,  2.24s/it]0\n",
      "Average Metric: 15.00 / 20 (75.0%):  38%|███▊      | 19/50 [00:34<01:09,  2.24s/it]0\n",
      "Average Metric: 16.00 / 21 (76.2%):  42%|████▏     | 21/50 [00:39<00:53,  1.84s/it]0\n",
      "Average Metric: 17.00 / 22 (77.3%):  44%|████▍     | 22/50 [00:40<00:46,  1.66s/it]0\n",
      "Average Metric: 17.00 / 23 (73.9%):  46%|████▌     | 23/50 [00:42<00:48,  1.80s/it]0\n",
      "Average Metric: 17.00 / 24 (70.8%):  48%|████▊     | 24/50 [00:43<00:43,  1.66s/it]0\n",
      "Average Metric: 17.00 / 25 (68.0%):  50%|█████     | 25/50 [00:45<00:45,  1.81s/it]0\n",
      "Average Metric: 17.00 / 26 (65.4%):  52%|█████▏    | 26/50 [00:48<00:49,  2.05s/it]0\n",
      "Average Metric: 18.00 / 27 (66.7%):  54%|█████▍    | 27/50 [00:51<00:54,  2.36s/it]0\n",
      "Average Metric: 19.00 / 28 (67.9%):  56%|█████▌    | 28/50 [00:54<00:57,  2.60s/it]0\n",
      "Average Metric: 19.00 / 29 (65.5%):  58%|█████▊    | 29/50 [00:55<00:44,  2.14s/it]0\n",
      "Average Metric: 19.00 / 30 (63.3%):  60%|██████    | 30/50 [00:56<00:32,  1.63s/it]0\n",
      "Average Metric: 20.00 / 31 (64.5%):  62%|██████▏   | 31/50 [00:56<00:24,  1.30s/it]0\n",
      "Average Metric: 20.00 / 32 (62.5%):  64%|██████▍   | 32/50 [01:01<00:39,  2.22s/it]0\n",
      "Average Metric: 20.00 / 33 (60.6%):  66%|██████▌   | 33/50 [01:02<00:32,  1.90s/it]0\n",
      "Average Metric: 21.00 / 34 (61.8%):  66%|██████▌   | 33/50 [01:02<00:32,  1.90s/it]0\n",
      "Average Metric: 21.00 / 35 (60.0%):  70%|███████   | 35/50 [01:02<00:17,  1.14s/it]0\n",
      "Average Metric: 22.00 / 36 (61.1%):  72%|███████▏  | 36/50 [01:07<00:28,  2.03s/it]1\n",
      "Average Metric: 23.00 / 37 (62.2%):  74%|███████▍  | 37/50 [01:07<00:20,  1.55s/it]0\n",
      "Average Metric: 23.00 / 38 (60.5%):  76%|███████▌  | 38/50 [01:08<00:14,  1.21s/it]1\n",
      "Average Metric: 23.00 / 39 (59.0%):  78%|███████▊  | 39/50 [01:12<00:24,  2.22s/it]1\n",
      "Average Metric: 24.00 / 40 (60.0%):  80%|████████  | 40/50 [01:13<00:18,  1.82s/it]0\n",
      "Average Metric: 25.00 / 41 (61.0%):  82%|████████▏ | 41/50 [01:14<00:13,  1.50s/it]1\n",
      "Average Metric: 25.00 / 42 (59.5%):  84%|████████▍ | 42/50 [01:18<00:17,  2.14s/it]1\n",
      "Average Metric: 26.00 / 43 (60.5%):  86%|████████▌ | 43/50 [01:19<00:13,  1.93s/it]1\n",
      "Average Metric: 27.00 / 44 (61.4%):  88%|████████▊ | 44/50 [01:20<00:09,  1.53s/it]1\n",
      "Average Metric: 28.00 / 45 (62.2%):  90%|█████████ | 45/50 [01:20<00:06,  1.33s/it]1\n",
      "Average Metric: 28.00 / 46 (60.9%):  92%|█████████▏| 46/50 [01:25<00:08,  2.15s/it]1\n",
      "Average Metric: 29.00 / 47 (61.7%):  94%|█████████▍| 47/50 [01:25<00:05,  1.72s/it]1\n",
      "Average Metric: 29.00 / 48 (60.4%):  96%|█████████▌| 48/50 [01:30<00:05,  2.68s/it]1\n",
      "Average Metric: 29.00 / 49 (59.2%):  98%|█████████▊| 49/50 [01:33<00:02,  2.58s/it]1\n",
      "Average Metric: 30.00 / 50 (60.0%): 100%|██████████| 50/50 [01:36<00:00,  1.92s/it]"
     ]
    },
    {
     "name": "stderr",
     "output_type": "stream",
     "text": [
      "2025/08/05 17:18:02 INFO dspy.evaluate.evaluate: Average Metric: 30 / 50 (60.0%)\n"
     ]
    },
    {
     "name": "stdout",
     "output_type": "stream",
     "text": [
      "\n",
      "Scores so far: [68.0, 60.0, 68.0, 68.0, 58.0, 60.0]\n",
      "Best score so far: 68.0\n"
     ]
    },
    {
     "name": "stderr",
     "output_type": "stream",
     "text": [
      "  2%|▏         | 1/50 [00:06<05:15,  6.43s/it]"
     ]
    },
    {
     "name": "stdout",
     "output_type": "stream",
     "text": [
      "0\n"
     ]
    },
    {
     "name": "stderr",
     "output_type": "stream",
     "text": [
      "  4%|▍         | 2/50 [00:14<05:56,  7.42s/it]"
     ]
    },
    {
     "name": "stdout",
     "output_type": "stream",
     "text": [
      "1\n"
     ]
    },
    {
     "name": "stderr",
     "output_type": "stream",
     "text": [
      "  6%|▌         | 3/50 [00:22<05:51,  7.48s/it]"
     ]
    },
    {
     "name": "stdout",
     "output_type": "stream",
     "text": [
      "0\n"
     ]
    },
    {
     "name": "stderr",
     "output_type": "stream",
     "text": [
      "  8%|▊         | 4/50 [00:27<05:06,  6.67s/it]"
     ]
    },
    {
     "name": "stdout",
     "output_type": "stream",
     "text": [
      "0\n"
     ]
    },
    {
     "name": "stderr",
     "output_type": "stream",
     "text": [
      " 10%|█         | 5/50 [00:34<05:10,  6.90s/it]\n"
     ]
    },
    {
     "name": "stdout",
     "output_type": "stream",
     "text": [
      "0\n",
      "Bootstrapped 2 full traces after 5 examples for up to 1 rounds, amounting to 5 attempts.\n",
      "  0%|          | 0/50 [00:00<?, ?it/s]0\n",
      "Average Metric: 1.00 / 1 (100.0%):   2%|▏         | 1/50 [00:08<07:06,  8.69s/it]0\n",
      "Average Metric: 1.00 / 2 (50.0%):   4%|▍         | 2/50 [00:10<03:35,  4.48s/it] 0\n",
      "Average Metric: 2.00 / 3 (66.7%):   6%|▌         | 3/50 [00:13<03:00,  3.84s/it]0\n",
      "Average Metric: 3.00 / 4 (75.0%):   8%|▊         | 4/50 [00:13<01:56,  2.53s/it]0\n",
      "Average Metric: 4.00 / 5 (80.0%):  10%|█         | 5/50 [00:13<01:14,  1.67s/it]0\n",
      "Average Metric: 5.00 / 6 (83.3%):  12%|█▏        | 6/50 [00:18<01:59,  2.73s/it]0\n",
      "Average Metric: 6.00 / 7 (85.7%):  14%|█▍        | 7/50 [00:20<01:44,  2.43s/it]0\n",
      "Average Metric: 7.00 / 8 (87.5%):  16%|█▌        | 8/50 [00:21<01:26,  2.05s/it]0\n",
      "Average Metric: 8.00 / 9 (88.9%):  18%|█▊        | 9/50 [00:22<01:06,  1.63s/it]0\n",
      "Average Metric: 8.00 / 10 (80.0%):  20%|██        | 10/50 [00:26<01:29,  2.24s/it]0\n",
      "Average Metric: 9.00 / 11 (81.8%):  20%|██        | 10/50 [00:26<01:29,  2.24s/it]0\n",
      "Average Metric: 10.00 / 12 (83.3%):  22%|██▏       | 11/50 [00:26<01:27,  2.24s/it]0\n",
      "0\n",
      "Average Metric: 12.00 / 14 (85.7%):  26%|██▌       | 13/50 [00:32<01:21,  2.21s/it]0\n",
      "Average Metric: 13.00 / 15 (86.7%):  30%|███       | 15/50 [00:32<00:50,  1.45s/it]0\n",
      "Average Metric: 14.00 / 16 (87.5%):  32%|███▏      | 16/50 [00:38<01:16,  2.24s/it]0\n",
      "Average Metric: 14.00 / 17 (82.4%):  34%|███▍      | 17/50 [00:38<00:59,  1.81s/it]0\n",
      "Average Metric: 15.00 / 18 (83.3%):  36%|███▌      | 18/50 [00:39<00:54,  1.72s/it]0\n",
      "Average Metric: 16.00 / 19 (84.2%):  38%|███▊      | 19/50 [00:42<01:00,  1.94s/it]0\n",
      "Average Metric: 17.00 / 20 (85.0%):  40%|████      | 20/50 [00:43<00:52,  1.75s/it]0\n",
      "Average Metric: 18.00 / 21 (85.7%):  42%|████▏     | 21/50 [00:47<01:03,  2.18s/it]0\n",
      "Average Metric: 19.00 / 22 (86.4%):  42%|████▏     | 21/50 [00:47<01:03,  2.18s/it]0\n",
      "Average Metric: 20.00 / 23 (87.0%):  46%|████▌     | 23/50 [00:49<00:47,  1.78s/it]0\n",
      "Average Metric: 20.00 / 24 (83.3%):  48%|████▊     | 24/50 [00:53<00:56,  2.19s/it]0\n",
      "Average Metric: 21.00 / 25 (84.0%):  50%|█████     | 25/50 [00:53<00:44,  1.78s/it]0\n",
      "Average Metric: 22.00 / 26 (84.6%):  52%|█████▏    | 26/50 [00:55<00:41,  1.74s/it]0\n",
      "Average Metric: 22.00 / 27 (81.5%):  54%|█████▍    | 27/50 [00:58<00:47,  2.05s/it]0\n",
      "Average Metric: 23.00 / 28 (82.1%):  56%|█████▌    | 28/50 [01:00<00:48,  2.20s/it]0\n",
      "Average Metric: 24.00 / 29 (82.8%):  58%|█████▊    | 29/50 [01:02<00:43,  2.07s/it]0\n",
      "Average Metric: 25.00 / 30 (83.3%):  60%|██████    | 30/50 [01:03<00:37,  1.88s/it]0\n",
      "Average Metric: 26.00 / 31 (83.9%):  62%|██████▏   | 31/50 [01:05<00:32,  1.72s/it]0\n",
      "Average Metric: 26.00 / 32 (81.2%):  64%|██████▍   | 32/50 [01:05<00:25,  1.42s/it]0\n",
      "Average Metric: 26.00 / 33 (78.8%):  66%|██████▌   | 33/50 [01:08<00:27,  1.64s/it]0\n",
      "Average Metric: 26.00 / 34 (76.5%):  68%|██████▊   | 34/50 [01:10<00:29,  1.82s/it]0\n",
      "Average Metric: 27.00 / 35 (77.1%):  70%|███████   | 35/50 [01:11<00:23,  1.56s/it]0\n",
      "Average Metric: 27.00 / 36 (75.0%):  72%|███████▏  | 36/50 [01:15<00:33,  2.37s/it]1\n",
      "Average Metric: 28.00 / 37 (75.7%):  74%|███████▍  | 37/50 [01:15<00:23,  1.79s/it]0\n",
      "Average Metric: 29.00 / 38 (76.3%):  76%|███████▌  | 38/50 [01:19<00:27,  2.32s/it]1\n",
      "Average Metric: 29.00 / 39 (74.4%):  78%|███████▊  | 39/50 [01:20<00:21,  2.00s/it]1\n",
      "Average Metric: 30.00 / 40 (75.0%):  80%|████████  | 40/50 [01:22<00:19,  1.95s/it]0\n",
      "Average Metric: 31.00 / 41 (75.6%):  82%|████████▏ | 41/50 [01:26<00:22,  2.47s/it]1\n",
      "1\n",
      "Average Metric: 32.00 / 43 (74.4%):  84%|████████▍ | 42/50 [01:26<00:15,  1.89s/it]1\n",
      "Average Metric: 33.00 / 44 (75.0%):  88%|████████▊ | 44/50 [01:29<00:09,  1.59s/it]1\n",
      "Average Metric: 34.00 / 45 (75.6%):  90%|█████████ | 45/50 [01:30<00:07,  1.59s/it]1\n",
      "Average Metric: 34.00 / 46 (73.9%):  92%|█████████▏| 46/50 [01:32<00:06,  1.60s/it]1\n",
      "Average Metric: 35.00 / 47 (74.5%):  94%|█████████▍| 47/50 [01:34<00:05,  1.67s/it]1\n",
      "Average Metric: 36.00 / 48 (75.0%):  96%|█████████▌| 48/50 [01:35<00:03,  1.63s/it]1\n",
      "Average Metric: 36.00 / 49 (73.5%):  98%|█████████▊| 49/50 [01:40<00:02,  2.36s/it]1\n",
      "Average Metric: 36.00 / 50 (72.0%): 100%|██████████| 50/50 [01:40<00:00,  2.01s/it]"
     ]
    },
    {
     "name": "stderr",
     "output_type": "stream",
     "text": [
      "2025/08/05 17:20:17 INFO dspy.evaluate.evaluate: Average Metric: 36 / 50 (72.0%)\n"
     ]
    },
    {
     "name": "stdout",
     "output_type": "stream",
     "text": [
      "\n",
      "New best score: 72.0 for seed 3\n",
      "Scores so far: [68.0, 60.0, 68.0, 68.0, 58.0, 60.0, 72.0]\n",
      "Best score so far: 72.0\n"
     ]
    },
    {
     "name": "stderr",
     "output_type": "stream",
     "text": [
      "  2%|▏         | 1/50 [00:05<04:48,  5.88s/it]"
     ]
    },
    {
     "name": "stdout",
     "output_type": "stream",
     "text": [
      "1\n"
     ]
    },
    {
     "name": "stderr",
     "output_type": "stream",
     "text": [
      "  4%|▍         | 2/50 [00:16<06:25,  8.03s/it]\n"
     ]
    },
    {
     "name": "stdout",
     "output_type": "stream",
     "text": [
      "0\n",
      "Bootstrapped 2 full traces after 2 examples for up to 1 rounds, amounting to 2 attempts.\n",
      "  0%|          | 0/50 [00:00<?, ?it/s]0\n",
      "0\n",
      "Average Metric: 2.00 / 2 (100.0%):   2%|▏         | 1/50 [00:05<04:20,  5.31s/it]0\n",
      "Average Metric: 3.00 / 3 (100.0%):   6%|▌         | 3/50 [00:06<01:20,  1.71s/it]0\n",
      "Average Metric: 4.00 / 4 (100.0%):   8%|▊         | 4/50 [00:07<01:12,  1.58s/it]0\n",
      "Average Metric: 5.00 / 5 (100.0%):  10%|█         | 5/50 [00:10<01:27,  1.94s/it]0\n",
      "Average Metric: 6.00 / 6 (100.0%):  12%|█▏        | 6/50 [00:11<01:14,  1.68s/it]0\n",
      "Average Metric: 7.00 / 7 (100.0%):  14%|█▍        | 7/50 [00:12<01:08,  1.60s/it]0\n",
      "Average Metric: 8.00 / 8 (100.0%):  16%|█▌        | 8/50 [00:13<00:51,  1.23s/it]0\n",
      "Average Metric: 9.00 / 9 (100.0%):  18%|█▊        | 9/50 [00:16<01:21,  1.99s/it]0\n",
      "Average Metric: 10.00 / 10 (100.0%):  20%|██        | 10/50 [00:17<01:02,  1.57s/it]0\n",
      "Average Metric: 10.00 / 11 (90.9%):  22%|██▏       | 11/50 [00:18<00:52,  1.34s/it] 0\n",
      "Average Metric: 11.00 / 12 (91.7%):  24%|██▍       | 12/50 [00:18<00:42,  1.12s/it]0\n",
      "Average Metric: 12.00 / 13 (92.3%):  26%|██▌       | 13/50 [00:22<01:05,  1.77s/it]0\n",
      "Average Metric: 13.00 / 14 (92.9%):  28%|██▊       | 14/50 [00:24<01:04,  1.79s/it]0\n",
      "Average Metric: 13.00 / 15 (86.7%):  30%|███       | 15/50 [00:27<01:17,  2.21s/it]0\n",
      "Average Metric: 14.00 / 16 (87.5%):  32%|███▏      | 16/50 [00:28<01:09,  2.04s/it]0\n",
      "Average Metric: 15.00 / 17 (88.2%):  32%|███▏      | 16/50 [00:28<01:09,  2.04s/it]0\n",
      "Average Metric: 15.00 / 18 (83.3%):  36%|███▌      | 18/50 [00:29<00:40,  1.26s/it]0\n",
      "Average Metric: 16.00 / 19 (84.2%):  38%|███▊      | 19/50 [00:33<01:00,  1.94s/it]0\n",
      "Average Metric: 17.00 / 20 (85.0%):  40%|████      | 20/50 [00:34<00:47,  1.60s/it]0\n",
      "Average Metric: 18.00 / 21 (85.7%):  42%|████▏     | 21/50 [00:35<00:44,  1.52s/it]0\n",
      "Average Metric: 19.00 / 22 (86.4%):  44%|████▍     | 22/50 [00:39<01:01,  2.21s/it]0\n",
      "Average Metric: 20.00 / 23 (87.0%):  46%|████▌     | 23/50 [00:39<00:45,  1.70s/it]0\n",
      "Average Metric: 21.00 / 24 (87.5%):  46%|████▌     | 23/50 [00:39<00:45,  1.70s/it]0\n",
      "Average Metric: 21.00 / 25 (84.0%):  50%|█████     | 25/50 [00:43<00:42,  1.70s/it]0\n",
      "Average Metric: 22.00 / 26 (84.6%):  52%|█████▏    | 26/50 [00:45<00:41,  1.72s/it]0\n",
      "Average Metric: 22.00 / 27 (81.5%):  54%|█████▍    | 27/50 [00:46<00:39,  1.71s/it]0\n",
      "Average Metric: 23.00 / 28 (82.1%):  56%|█████▌    | 28/50 [00:48<00:37,  1.69s/it]0\n",
      "Average Metric: 24.00 / 29 (82.8%):  58%|█████▊    | 29/50 [00:49<00:29,  1.42s/it]0\n",
      "Average Metric: 25.00 / 30 (83.3%):  60%|██████    | 30/50 [00:51<00:36,  1.80s/it]0\n",
      "Average Metric: 25.00 / 31 (80.6%):  62%|██████▏   | 31/50 [00:53<00:32,  1.72s/it]00\n",
      "\n",
      "Average Metric: 26.00 / 33 (78.8%):  64%|██████▍   | 32/50 [00:54<00:30,  1.67s/it]0\n",
      "Average Metric: 26.00 / 34 (76.5%):  68%|██████▊   | 34/50 [00:58<00:27,  1.70s/it]0\n",
      "Average Metric: 27.00 / 35 (77.1%):  70%|███████   | 35/50 [01:00<00:26,  1.78s/it]0\n",
      "Average Metric: 28.00 / 36 (77.8%):  72%|███████▏  | 36/50 [01:00<00:19,  1.38s/it]0\n",
      "Average Metric: 28.00 / 37 (75.7%):  74%|███████▍  | 37/50 [01:01<00:15,  1.20s/it]1\n",
      "Average Metric: 28.00 / 38 (73.7%):  76%|███████▌  | 38/50 [01:05<00:25,  2.09s/it]1\n",
      "Average Metric: 29.00 / 39 (74.4%):  78%|███████▊  | 39/50 [01:05<00:16,  1.53s/it]1\n",
      "Average Metric: 30.00 / 40 (75.0%):  80%|████████  | 40/50 [01:06<00:13,  1.38s/it]1\n",
      "Average Metric: 31.00 / 41 (75.6%):  82%|████████▏ | 41/50 [01:12<00:22,  2.53s/it]0\n",
      "Average Metric: 32.00 / 42 (76.2%):  84%|████████▍ | 42/50 [01:12<00:15,  1.88s/it]1\n",
      "Average Metric: 32.00 / 43 (74.4%):  86%|████████▌ | 43/50 [01:13<00:10,  1.47s/it]1\n",
      "Average Metric: 33.00 / 44 (75.0%):  88%|████████▊ | 44/50 [01:14<00:08,  1.37s/it]1\n",
      "Average Metric: 34.00 / 45 (75.6%):  90%|█████████ | 45/50 [01:18<00:11,  2.36s/it]1\n",
      "Average Metric: 35.00 / 46 (76.1%):  92%|█████████▏| 46/50 [01:19<00:07,  1.85s/it]1\n",
      "Average Metric: 35.00 / 47 (74.5%):  92%|█████████▏| 46/50 [01:19<00:07,  1.85s/it]1\n",
      "Average Metric: 36.00 / 48 (75.0%):  96%|█████████▌| 48/50 [01:22<00:03,  1.75s/it]1\n",
      "Average Metric: 36.00 / 49 (73.5%):  98%|█████████▊| 49/50 [01:25<00:01,  1.92s/it]1\n",
      "Average Metric: 36.00 / 50 (72.0%): 100%|██████████| 50/50 [01:29<00:00,  1.79s/it]"
     ]
    },
    {
     "name": "stderr",
     "output_type": "stream",
     "text": [
      "2025/08/05 17:22:02 INFO dspy.evaluate.evaluate: Average Metric: 36 / 50 (72.0%)\n"
     ]
    },
    {
     "name": "stdout",
     "output_type": "stream",
     "text": [
      "\n",
      "Scores so far: [68.0, 60.0, 68.0, 68.0, 58.0, 60.0, 72.0, 72.0]\n",
      "Best score so far: 72.0\n"
     ]
    },
    {
     "name": "stderr",
     "output_type": "stream",
     "text": [
      "  2%|▏         | 1/50 [00:05<04:40,  5.72s/it]"
     ]
    },
    {
     "name": "stdout",
     "output_type": "stream",
     "text": [
      "0\n"
     ]
    },
    {
     "name": "stderr",
     "output_type": "stream",
     "text": [
      "  4%|▍         | 2/50 [00:11<04:34,  5.73s/it]"
     ]
    },
    {
     "name": "stdout",
     "output_type": "stream",
     "text": [
      "0\n"
     ]
    },
    {
     "name": "stderr",
     "output_type": "stream",
     "text": [
      "  6%|▌         | 3/50 [00:16<04:21,  5.56s/it]\n"
     ]
    },
    {
     "name": "stdout",
     "output_type": "stream",
     "text": [
      "0\n",
      "Bootstrapped 3 full traces after 3 examples for up to 1 rounds, amounting to 3 attempts.\n",
      "  0%|          | 0/50 [00:00<?, ?it/s]0\n",
      "Average Metric: 1.00 / 1 (100.0%):   2%|▏         | 1/50 [00:05<04:39,  5.71s/it]0\n",
      "Average Metric: 2.00 / 2 (100.0%):   4%|▍         | 2/50 [00:06<02:07,  2.65s/it]0\n",
      "Average Metric: 3.00 / 3 (100.0%):   6%|▌         | 3/50 [00:07<01:29,  1.91s/it]0\n",
      "Average Metric: 4.00 / 4 (100.0%):   6%|▌         | 3/50 [00:07<01:29,  1.91s/it]0\n",
      "Average Metric: 5.00 / 5 (100.0%):  10%|█         | 5/50 [00:10<01:22,  1.84s/it]0\n",
      "Average Metric: 6.00 / 6 (100.0%):  12%|█▏        | 6/50 [00:11<01:06,  1.52s/it]0\n",
      "Average Metric: 7.00 / 7 (100.0%):  14%|█▍        | 7/50 [00:12<00:52,  1.22s/it]0\n",
      "Average Metric: 8.00 / 8 (100.0%):  16%|█▌        | 8/50 [00:14<01:02,  1.50s/it]0\n",
      "Average Metric: 8.00 / 9 (88.9%):  18%|█▊        | 9/50 [00:17<01:20,  1.96s/it] 0\n",
      "Average Metric: 9.00 / 10 (90.0%):  20%|██        | 10/50 [00:17<01:02,  1.56s/it]0\n",
      "Average Metric: 9.00 / 11 (81.8%):  22%|██▏       | 11/50 [00:18<00:48,  1.25s/it]0\n",
      "Average Metric: 10.00 / 12 (83.3%):  24%|██▍       | 12/50 [00:18<00:39,  1.03s/it]0\n",
      "Average Metric: 11.00 / 13 (84.6%):  26%|██▌       | 13/50 [00:22<01:05,  1.76s/it]0\n",
      "Average Metric: 11.00 / 14 (78.6%):  28%|██▊       | 14/50 [00:25<01:13,  2.05s/it]0\n",
      "Average Metric: 11.00 / 15 (73.3%):  30%|███       | 15/50 [00:27<01:10,  2.01s/it]0\n",
      "Average Metric: 12.00 / 16 (75.0%):  32%|███▏      | 16/50 [00:27<00:53,  1.58s/it]0\n",
      "Average Metric: 12.00 / 17 (70.6%):  34%|███▍      | 17/50 [00:30<01:03,  1.94s/it]0\n",
      "Average Metric: 12.00 / 18 (66.7%):  36%|███▌      | 18/50 [00:31<00:54,  1.69s/it]0\n",
      "Average Metric: 13.00 / 19 (68.4%):  38%|███▊      | 19/50 [00:32<00:42,  1.37s/it]0\n",
      "Average Metric: 14.00 / 20 (70.0%):  40%|████      | 20/50 [00:32<00:33,  1.13s/it]0\n",
      "Average Metric: 15.00 / 21 (71.4%):  42%|████▏     | 21/50 [00:35<00:50,  1.72s/it]0\n",
      "Average Metric: 16.00 / 22 (72.7%):  44%|████▍     | 22/50 [00:38<00:57,  2.04s/it]0\n",
      "Average Metric: 17.00 / 23 (73.9%):  46%|████▌     | 23/50 [00:40<00:57,  2.13s/it]0\n",
      "Average Metric: 18.00 / 24 (75.0%):  48%|████▊     | 24/50 [00:42<00:54,  2.11s/it]0\n",
      "Average Metric: 18.00 / 25 (72.0%):  50%|█████     | 25/50 [00:43<00:39,  1.57s/it]0\n",
      "Average Metric: 19.00 / 26 (73.1%):  52%|█████▏    | 26/50 [00:46<00:51,  2.14s/it]0\n",
      "Average Metric: 19.00 / 27 (70.4%):  54%|█████▍    | 27/50 [00:48<00:44,  1.93s/it]0\n",
      "Average Metric: 20.00 / 28 (71.4%):  56%|█████▌    | 28/50 [00:49<00:39,  1.78s/it]0\n",
      "Average Metric: 20.00 / 29 (69.0%):  58%|█████▊    | 29/50 [00:49<00:26,  1.28s/it]0\n",
      "Average Metric: 21.00 / 30 (70.0%):  60%|██████    | 30/50 [00:53<00:41,  2.06s/it]0\n",
      "Average Metric: 22.00 / 31 (71.0%):  62%|██████▏   | 31/50 [00:54<00:31,  1.66s/it]0\n",
      "Average Metric: 22.00 / 32 (68.8%):  64%|██████▍   | 32/50 [00:55<00:24,  1.38s/it]0\n",
      "Average Metric: 22.00 / 33 (66.7%):  66%|██████▌   | 33/50 [00:57<00:28,  1.67s/it]0\n",
      "Average Metric: 22.00 / 34 (64.7%):  68%|██████▊   | 34/50 [00:59<00:29,  1.81s/it]0\n",
      "Average Metric: 23.00 / 35 (65.7%):  68%|██████▊   | 34/50 [00:59<00:29,  1.81s/it]0\n",
      "Average Metric: 23.00 / 36 (63.9%):  72%|███████▏  | 36/50 [01:02<00:23,  1.66s/it]0\n",
      "Average Metric: 24.00 / 37 (64.9%):  74%|███████▍  | 37/50 [01:02<00:17,  1.35s/it]1\n",
      "Average Metric: 25.00 / 38 (65.8%):  76%|███████▌  | 38/50 [01:04<00:18,  1.51s/it]0\n",
      "Average Metric: 26.00 / 39 (66.7%):  78%|███████▊  | 39/50 [01:08<00:22,  2.05s/it]1\n",
      "Average Metric: 26.00 / 40 (65.0%):  80%|████████  | 40/50 [01:08<00:15,  1.56s/it]1\n",
      "Average Metric: 27.00 / 41 (65.9%):  82%|████████▏ | 41/50 [01:09<00:11,  1.32s/it]1\n",
      "Average Metric: 27.00 / 42 (64.3%):  84%|████████▍ | 42/50 [01:10<00:09,  1.20s/it]1\n",
      "Average Metric: 28.00 / 43 (65.1%):  86%|████████▌ | 43/50 [01:14<00:13,  1.96s/it]1\n",
      "Average Metric: 29.00 / 44 (65.9%):  88%|████████▊ | 44/50 [01:15<00:11,  1.90s/it]1\n",
      "Average Metric: 29.00 / 45 (64.4%):  90%|█████████ | 45/50 [01:16<00:06,  1.38s/it]1\n",
      "Average Metric: 30.00 / 46 (65.2%):  92%|█████████▏| 46/50 [01:18<00:07,  1.81s/it]1\n",
      "Average Metric: 31.00 / 47 (66.0%):  94%|█████████▍| 47/50 [01:20<00:05,  1.88s/it]1\n",
      "Average Metric: 32.00 / 48 (66.7%):  96%|█████████▌| 48/50 [01:21<00:03,  1.62s/it]1\n",
      "Average Metric: 32.00 / 49 (65.3%):  98%|█████████▊| 49/50 [01:22<00:01,  1.32s/it]1\n",
      "Average Metric: 32.00 / 50 (64.0%): 100%|██████████| 50/50 [01:25<00:00,  1.71s/it]"
     ]
    },
    {
     "name": "stderr",
     "output_type": "stream",
     "text": [
      "2025/08/05 17:23:44 INFO dspy.evaluate.evaluate: Average Metric: 32 / 50 (64.0%)\n"
     ]
    },
    {
     "name": "stdout",
     "output_type": "stream",
     "text": [
      "\n",
      "Scores so far: [68.0, 60.0, 68.0, 68.0, 58.0, 60.0, 72.0, 72.0, 64.0]\n",
      "Best score so far: 72.0\n"
     ]
    },
    {
     "name": "stderr",
     "output_type": "stream",
     "text": [
      "  2%|▏         | 1/50 [00:07<06:10,  7.57s/it]"
     ]
    },
    {
     "name": "stdout",
     "output_type": "stream",
     "text": [
      "1\n"
     ]
    },
    {
     "name": "stderr",
     "output_type": "stream",
     "text": [
      "  4%|▍         | 2/50 [00:16<06:38,  8.30s/it]"
     ]
    },
    {
     "name": "stdout",
     "output_type": "stream",
     "text": [
      "0\n"
     ]
    },
    {
     "name": "stderr",
     "output_type": "stream",
     "text": [
      "  6%|▌         | 3/50 [00:23<06:07,  7.83s/it]"
     ]
    },
    {
     "name": "stdout",
     "output_type": "stream",
     "text": [
      "0\n"
     ]
    },
    {
     "name": "stderr",
     "output_type": "stream",
     "text": [
      "  8%|▊         | 4/50 [00:30<05:53,  7.69s/it]\n"
     ]
    },
    {
     "name": "stdout",
     "output_type": "stream",
     "text": [
      "1\n",
      "Bootstrapped 1 full traces after 4 examples for up to 1 rounds, amounting to 4 attempts.\n",
      "  0%|          | 0/50 [00:00<?, ?it/s]0\n",
      "Average Metric: 1.00 / 1 (100.0%):   2%|▏         | 1/50 [00:05<04:17,  5.25s/it]0\n",
      "Average Metric: 2.00 / 2 (100.0%):   4%|▍         | 2/50 [00:06<02:24,  3.01s/it]0\n",
      "Average Metric: 3.00 / 3 (100.0%):   6%|▌         | 3/50 [00:07<01:25,  1.81s/it]0\n",
      "Average Metric: 4.00 / 4 (100.0%):   8%|▊         | 4/50 [00:07<01:00,  1.31s/it]0\n",
      "Average Metric: 5.00 / 5 (100.0%):  10%|█         | 5/50 [00:10<01:25,  1.91s/it]0\n",
      "Average Metric: 6.00 / 6 (100.0%):  12%|█▏        | 6/50 [00:11<01:10,  1.61s/it]0\n",
      "Average Metric: 7.00 / 7 (100.0%):  14%|█▍        | 7/50 [00:13<01:16,  1.79s/it]0\n",
      "Average Metric: 8.00 / 8 (100.0%):  16%|█▌        | 8/50 [00:15<01:20,  1.92s/it]0\n",
      "Average Metric: 9.00 / 9 (100.0%):  18%|█▊        | 9/50 [00:18<01:23,  2.04s/it]0\n",
      "Average Metric: 9.00 / 10 (90.0%):  20%|██        | 10/50 [00:18<01:03,  1.60s/it]0\n",
      "Average Metric: 10.00 / 11 (90.9%):  22%|██▏       | 11/50 [00:19<00:51,  1.33s/it]0\n",
      "Average Metric: 11.00 / 12 (91.7%):  24%|██▍       | 12/50 [00:21<01:02,  1.64s/it]0\n",
      "Average Metric: 11.00 / 13 (84.6%):  26%|██▌       | 13/50 [00:26<01:37,  2.63s/it]0\n",
      "Average Metric: 12.00 / 14 (85.7%):  28%|██▊       | 14/50 [00:27<01:18,  2.18s/it]0\n",
      "Average Metric: 13.00 / 15 (86.7%):  30%|███       | 15/50 [00:28<01:00,  1.74s/it]0\n",
      "Average Metric: 13.00 / 16 (81.2%):  30%|███       | 15/50 [00:28<01:00,  1.74s/it]0\n",
      "Average Metric: 13.00 / 17 (76.5%):  34%|███▍      | 17/50 [00:33<01:05,  2.00s/it]0\n",
      "Average Metric: 14.00 / 18 (77.8%):  36%|███▌      | 18/50 [00:36<01:12,  2.27s/it]0\n",
      "Average Metric: 15.00 / 19 (78.9%):  38%|███▊      | 19/50 [00:37<01:01,  1.97s/it]0\n",
      "0\n",
      "Average Metric: 16.00 / 21 (76.2%):  40%|████      | 20/50 [00:38<00:53,  1.77s/it]0\n",
      "Average Metric: 16.00 / 22 (72.7%):  44%|████▍     | 22/50 [00:43<00:54,  1.93s/it]0\n",
      "Average Metric: 16.00 / 23 (69.6%):  46%|████▌     | 23/50 [00:46<01:02,  2.30s/it]0\n",
      "Average Metric: 17.00 / 24 (70.8%):  48%|████▊     | 24/50 [00:46<00:47,  1.82s/it]0\n",
      "Average Metric: 17.00 / 25 (68.0%):  50%|█████     | 25/50 [00:47<00:38,  1.53s/it]0\n",
      "Average Metric: 17.00 / 26 (65.4%):  52%|█████▏    | 26/50 [00:48<00:31,  1.33s/it]0\n",
      "Average Metric: 18.00 / 27 (66.7%):  54%|█████▍    | 27/50 [00:52<00:46,  2.00s/it]0\n",
      "Average Metric: 19.00 / 28 (67.9%):  56%|█████▌    | 28/50 [00:54<00:48,  2.22s/it]0\n",
      "Average Metric: 20.00 / 29 (69.0%):  56%|█████▌    | 28/50 [00:54<00:48,  2.22s/it]0\n",
      "Average Metric: 21.00 / 30 (70.0%):  60%|██████    | 30/50 [00:57<00:34,  1.73s/it]0\n",
      "Average Metric: 21.00 / 31 (67.7%):  62%|██████▏   | 31/50 [00:57<00:26,  1.40s/it]0\n",
      "Average Metric: 21.00 / 32 (65.6%):  64%|██████▍   | 32/50 [01:00<00:31,  1.76s/it]0\n",
      "Average Metric: 21.00 / 33 (63.6%):  66%|██████▌   | 33/50 [01:01<00:27,  1.64s/it]0\n",
      "Average Metric: 21.00 / 34 (61.8%):  68%|██████▊   | 34/50 [01:03<00:25,  1.60s/it]0\n",
      "Average Metric: 22.00 / 35 (62.9%):  70%|███████   | 35/50 [01:03<00:18,  1.25s/it]1\n",
      "Average Metric: 23.00 / 36 (63.9%):  72%|███████▏  | 36/50 [01:07<00:28,  2.07s/it]0\n",
      "Average Metric: 23.00 / 37 (62.2%):  74%|███████▍  | 37/50 [01:09<00:24,  1.91s/it]0\n",
      "Average Metric: 24.00 / 38 (63.2%):  76%|███████▌  | 38/50 [01:09<00:17,  1.50s/it]0\n",
      "Average Metric: 24.00 / 39 (61.5%):  78%|███████▊  | 39/50 [01:10<00:13,  1.27s/it]1\n",
      "Average Metric: 24.00 / 40 (60.0%):  80%|████████  | 40/50 [01:13<00:16,  1.67s/it]1\n",
      "Average Metric: 25.00 / 41 (61.0%):  82%|████████▏ | 41/50 [01:14<00:14,  1.61s/it]1\n",
      "Average Metric: 26.00 / 42 (61.9%):  84%|████████▍ | 42/50 [01:17<00:16,  2.05s/it]1\n",
      "Average Metric: 27.00 / 43 (62.8%):  86%|████████▌ | 43/50 [01:20<00:16,  2.32s/it]1\n",
      "Average Metric: 28.00 / 44 (63.6%):  88%|████████▊ | 44/50 [01:21<00:10,  1.81s/it]1\n",
      "Average Metric: 28.00 / 45 (62.2%):  90%|█████████ | 45/50 [01:24<00:12,  2.41s/it]1\n",
      "Average Metric: 29.00 / 46 (63.0%):  90%|█████████ | 45/50 [01:24<00:12,  2.41s/it]1\n",
      "Average Metric: 30.00 / 47 (63.8%):  94%|█████████▍| 47/50 [01:25<00:04,  1.48s/it]1\n",
      "Average Metric: 31.00 / 48 (64.6%):  96%|█████████▌| 48/50 [01:26<00:02,  1.37s/it]1\n",
      "Average Metric: 31.00 / 49 (63.3%):  98%|█████████▊| 49/50 [01:32<00:02,  2.54s/it]1\n",
      "Average Metric: 31.00 / 50 (62.0%): 100%|██████████| 50/50 [01:35<00:00,  1.91s/it]"
     ]
    },
    {
     "name": "stderr",
     "output_type": "stream",
     "text": [
      "2025/08/05 17:25:50 INFO dspy.evaluate.evaluate: Average Metric: 31 / 50 (62.0%)\n"
     ]
    },
    {
     "name": "stdout",
     "output_type": "stream",
     "text": [
      "\n",
      "Scores so far: [68.0, 60.0, 68.0, 68.0, 58.0, 60.0, 72.0, 72.0, 64.0, 62.0]\n",
      "Best score so far: 72.0\n"
     ]
    },
    {
     "name": "stderr",
     "output_type": "stream",
     "text": [
      "  2%|▏         | 1/50 [00:06<05:00,  6.13s/it]"
     ]
    },
    {
     "name": "stdout",
     "output_type": "stream",
     "text": [
      "0\n"
     ]
    },
    {
     "name": "stderr",
     "output_type": "stream",
     "text": [
      "  4%|▍         | 2/50 [00:12<05:03,  6.32s/it]"
     ]
    },
    {
     "name": "stdout",
     "output_type": "stream",
     "text": [
      "0\n"
     ]
    },
    {
     "name": "stderr",
     "output_type": "stream",
     "text": [
      "  6%|▌         | 3/50 [00:20<05:28,  6.98s/it]"
     ]
    },
    {
     "name": "stdout",
     "output_type": "stream",
     "text": [
      "0\n"
     ]
    },
    {
     "name": "stderr",
     "output_type": "stream",
     "text": [
      "  8%|▊         | 4/50 [00:26<05:00,  6.53s/it]"
     ]
    },
    {
     "name": "stdout",
     "output_type": "stream",
     "text": [
      "0\n"
     ]
    },
    {
     "name": "stderr",
     "output_type": "stream",
     "text": [
      " 10%|█         | 5/50 [00:32<04:44,  6.32s/it]"
     ]
    },
    {
     "name": "stdout",
     "output_type": "stream",
     "text": [
      "0\n"
     ]
    },
    {
     "name": "stderr",
     "output_type": "stream",
     "text": [
      " 12%|█▏        | 6/50 [00:40<05:08,  7.02s/it]"
     ]
    },
    {
     "name": "stdout",
     "output_type": "stream",
     "text": [
      "1\n"
     ]
    },
    {
     "name": "stderr",
     "output_type": "stream",
     "text": [
      " 14%|█▍        | 7/50 [00:45<04:28,  6.24s/it]"
     ]
    },
    {
     "name": "stdout",
     "output_type": "stream",
     "text": [
      "0\n"
     ]
    },
    {
     "name": "stderr",
     "output_type": "stream",
     "text": [
      " 16%|█▌        | 8/50 [00:51<04:28,  6.40s/it]"
     ]
    },
    {
     "name": "stdout",
     "output_type": "stream",
     "text": [
      "0\n"
     ]
    },
    {
     "name": "stderr",
     "output_type": "stream",
     "text": [
      " 18%|█▊        | 9/50 [00:59<04:29,  6.57s/it]\n"
     ]
    },
    {
     "name": "stdout",
     "output_type": "stream",
     "text": [
      "0\n",
      "Bootstrapped 3 full traces after 9 examples for up to 1 rounds, amounting to 9 attempts.\n",
      "  0%|          | 0/50 [00:00<?, ?it/s]0\n",
      "Average Metric: 1.00 / 1 (100.0%):   2%|▏         | 1/50 [00:04<04:04,  4.99s/it]0\n",
      "Average Metric: 2.00 / 2 (100.0%):   4%|▍         | 2/50 [00:05<01:53,  2.36s/it]0\n",
      "Average Metric: 3.00 / 3 (100.0%):   6%|▌         | 3/50 [00:07<01:32,  1.98s/it]0\n",
      "Average Metric: 4.00 / 4 (100.0%):   8%|▊         | 4/50 [00:07<01:09,  1.52s/it]0\n",
      "Average Metric: 5.00 / 5 (100.0%):  10%|█         | 5/50 [00:10<01:20,  1.79s/it]0\n",
      "Average Metric: 6.00 / 6 (100.0%):  12%|█▏        | 6/50 [00:11<01:08,  1.56s/it]0\n",
      "Average Metric: 7.00 / 7 (100.0%):  14%|█▍        | 7/50 [00:13<01:15,  1.75s/it]0\n",
      "Average Metric: 8.00 / 8 (100.0%):  14%|█▍        | 7/50 [00:13<01:15,  1.75s/it]0\n",
      "Average Metric: 9.00 / 9 (100.0%):  18%|█▊        | 9/50 [00:15<01:02,  1.52s/it]0\n",
      "Average Metric: 10.00 / 10 (100.0%):  20%|██        | 10/50 [00:16<00:55,  1.40s/it]0\n",
      "Average Metric: 11.00 / 11 (100.0%):  22%|██▏       | 11/50 [00:18<00:53,  1.36s/it]0\n",
      "Average Metric: 11.00 / 12 (91.7%):  24%|██▍       | 12/50 [00:19<00:47,  1.24s/it] 0\n",
      "Average Metric: 12.00 / 13 (92.3%):  26%|██▌       | 13/50 [00:22<01:12,  1.95s/it]0\n",
      "Average Metric: 13.00 / 14 (92.9%):  28%|██▊       | 14/50 [00:26<01:23,  2.33s/it]0\n",
      "Average Metric: 14.00 / 15 (93.3%):  30%|███       | 15/50 [00:26<00:59,  1.71s/it]0\n",
      "Average Metric: 14.00 / 16 (87.5%):  32%|███▏      | 16/50 [00:29<01:17,  2.27s/it]0\n",
      "Average Metric: 14.00 / 17 (82.4%):  34%|███▍      | 17/50 [00:30<00:57,  1.75s/it]0\n",
      "Average Metric: 14.00 / 18 (77.8%):  36%|███▌      | 18/50 [00:31<00:44,  1.38s/it]0\n",
      "Average Metric: 15.00 / 19 (78.9%):  38%|███▊      | 19/50 [00:34<01:03,  2.03s/it]0\n",
      "Average Metric: 16.00 / 20 (80.0%):  40%|████      | 20/50 [00:35<00:52,  1.73s/it]0\n",
      "Average Metric: 17.00 / 21 (81.0%):  42%|████▏     | 21/50 [00:35<00:37,  1.31s/it]0\n",
      "Average Metric: 18.00 / 22 (81.8%):  44%|████▍     | 22/50 [00:39<00:55,  1.99s/it]0\n",
      "Average Metric: 19.00 / 23 (82.6%):  46%|████▌     | 23/50 [00:42<01:02,  2.31s/it]0\n",
      "Average Metric: 19.00 / 24 (79.2%):  48%|████▊     | 24/50 [00:45<01:01,  2.36s/it]0\n",
      "Average Metric: 19.00 / 25 (76.0%):  50%|█████     | 25/50 [00:45<00:43,  1.75s/it]0\n",
      "Average Metric: 19.00 / 26 (73.1%):  52%|█████▏    | 26/50 [00:45<00:32,  1.37s/it]0\n",
      "Average Metric: 20.00 / 27 (74.1%):  54%|█████▍    | 27/50 [00:47<00:35,  1.53s/it]0\n",
      "Average Metric: 21.00 / 28 (75.0%):  56%|█████▌    | 28/50 [00:52<00:53,  2.43s/it]0\n",
      "Average Metric: 22.00 / 29 (75.9%):  58%|█████▊    | 29/50 [00:53<00:40,  1.95s/it]0\n",
      "Average Metric: 22.00 / 30 (73.3%):  60%|██████    | 30/50 [00:53<00:29,  1.48s/it]0\n",
      "Average Metric: 23.00 / 31 (74.2%):  62%|██████▏   | 31/50 [00:54<00:25,  1.32s/it]0\n",
      "Average Metric: 23.00 / 32 (71.9%):  64%|██████▍   | 32/50 [00:57<00:33,  1.85s/it]0\n",
      "Average Metric: 24.00 / 33 (72.7%):  66%|██████▌   | 33/50 [01:00<00:39,  2.31s/it]0\n",
      "Average Metric: 24.00 / 34 (70.6%):  66%|██████▌   | 33/50 [01:01<00:39,  2.31s/it]0\n",
      "Average Metric: 24.00 / 35 (68.6%):  68%|██████▊   | 34/50 [01:01<00:27,  1.74s/it]0\n",
      "Average Metric: 25.00 / 36 (69.4%):  72%|███████▏  | 36/50 [01:04<00:23,  1.64s/it]0\n",
      "Average Metric: 25.00 / 37 (67.6%):  74%|███████▍  | 37/50 [01:05<00:21,  1.62s/it]1\n",
      "Average Metric: 26.00 / 38 (68.4%):  76%|███████▌  | 38/50 [01:06<00:15,  1.27s/it]0\n",
      "Average Metric: 26.00 / 39 (66.7%):  78%|███████▊  | 39/50 [01:08<00:16,  1.46s/it]1\n",
      "Average Metric: 26.00 / 40 (65.0%):  80%|████████  | 40/50 [01:10<00:16,  1.68s/it]1\n",
      "Average Metric: 26.00 / 41 (63.4%):  82%|████████▏ | 41/50 [01:12<00:15,  1.72s/it]1\n",
      "Average Metric: 27.00 / 42 (64.3%):  84%|████████▍ | 42/50 [01:14<00:14,  1.85s/it]1\n",
      "Average Metric: 28.00 / 43 (65.1%):  86%|████████▌ | 43/50 [01:14<00:10,  1.46s/it]1\n",
      "Average Metric: 29.00 / 44 (65.9%):  88%|████████▊ | 44/50 [01:16<00:09,  1.51s/it]1\n",
      "Average Metric: 29.00 / 45 (64.4%):  90%|█████████ | 45/50 [01:18<00:07,  1.54s/it]1\n",
      "Average Metric: 30.00 / 46 (65.2%):  92%|█████████▏| 46/50 [01:19<00:06,  1.55s/it]1\n",
      "Average Metric: 31.00 / 47 (66.0%):  94%|█████████▍| 47/50 [01:22<00:05,  1.85s/it]1\n",
      "Average Metric: 32.00 / 48 (66.7%):  96%|█████████▌| 48/50 [01:25<00:04,  2.37s/it]1\n",
      "Average Metric: 32.00 / 49 (65.3%):  98%|█████████▊| 49/50 [01:26<00:01,  1.75s/it]1\n",
      "Average Metric: 32.00 / 50 (64.0%): 100%|██████████| 50/50 [01:26<00:00,  1.73s/it]"
     ]
    },
    {
     "name": "stderr",
     "output_type": "stream",
     "text": [
      "2025/08/05 17:28:16 INFO dspy.evaluate.evaluate: Average Metric: 32 / 50 (64.0%)\n"
     ]
    },
    {
     "name": "stdout",
     "output_type": "stream",
     "text": [
      "\n",
      "Scores so far: [68.0, 60.0, 68.0, 68.0, 58.0, 60.0, 72.0, 72.0, 64.0, 62.0, 64.0]\n",
      "Best score so far: 72.0\n"
     ]
    },
    {
     "name": "stderr",
     "output_type": "stream",
     "text": [
      "  2%|▏         | 1/50 [00:06<05:38,  6.90s/it]"
     ]
    },
    {
     "name": "stdout",
     "output_type": "stream",
     "text": [
      "1\n"
     ]
    },
    {
     "name": "stderr",
     "output_type": "stream",
     "text": [
      "  4%|▍         | 2/50 [00:11<04:41,  5.86s/it]\n"
     ]
    },
    {
     "name": "stdout",
     "output_type": "stream",
     "text": [
      "0\n",
      "Bootstrapped 2 full traces after 2 examples for up to 1 rounds, amounting to 2 attempts.\n",
      "  0%|          | 0/50 [00:00<?, ?it/s]0\n",
      "Average Metric: 1.00 / 1 (100.0%):   2%|▏         | 1/50 [00:05<04:24,  5.39s/it]0\n",
      "Average Metric: 2.00 / 2 (100.0%):   4%|▍         | 2/50 [00:05<01:55,  2.40s/it]0\n",
      "Average Metric: 3.00 / 3 (100.0%):   6%|▌         | 3/50 [00:06<01:27,  1.87s/it]0\n",
      "Average Metric: 4.00 / 4 (100.0%):   8%|▊         | 4/50 [00:09<01:31,  1.98s/it]0\n",
      "Average Metric: 5.00 / 5 (100.0%):  10%|█         | 5/50 [00:10<01:11,  1.60s/it]0\n",
      "Average Metric: 6.00 / 6 (100.0%):  12%|█▏        | 6/50 [00:11<01:14,  1.68s/it]0\n",
      "Average Metric: 7.00 / 7 (100.0%):  14%|█▍        | 7/50 [00:14<01:31,  2.14s/it]0\n",
      "Average Metric: 8.00 / 8 (100.0%):  16%|█▌        | 8/50 [00:16<01:18,  1.88s/it]0\n",
      "Average Metric: 9.00 / 9 (100.0%):  18%|█▊        | 9/50 [00:16<00:56,  1.39s/it]0\n",
      "Average Metric: 10.00 / 10 (100.0%):  20%|██        | 10/50 [00:17<00:54,  1.37s/it]0\n",
      "Average Metric: 11.00 / 11 (100.0%):  22%|██▏       | 11/50 [00:20<01:08,  1.76s/it]0\n",
      "Average Metric: 11.00 / 12 (91.7%):  24%|██▍       | 12/50 [00:20<00:50,  1.33s/it] 0\n",
      "Average Metric: 12.00 / 13 (92.3%):  26%|██▌       | 13/50 [00:24<01:18,  2.13s/it]0\n",
      "Average Metric: 12.00 / 14 (85.7%):  28%|██▊       | 14/50 [00:26<01:07,  1.88s/it]0\n",
      "Average Metric: 13.00 / 15 (86.7%):  30%|███       | 15/50 [00:26<00:54,  1.57s/it]0\n",
      "Average Metric: 14.00 / 16 (87.5%):  32%|███▏      | 16/50 [00:27<00:42,  1.25s/it]0\n",
      "Average Metric: 14.00 / 17 (82.4%):  34%|███▍      | 17/50 [00:31<01:06,  2.01s/it]0\n",
      "Average Metric: 15.00 / 18 (83.3%):  36%|███▌      | 18/50 [00:31<00:50,  1.59s/it]0\n",
      "Average Metric: 16.00 / 19 (84.2%):  38%|███▊      | 19/50 [00:32<00:43,  1.40s/it]0\n",
      "Average Metric: 16.00 / 20 (80.0%):  40%|████      | 20/50 [00:32<00:30,  1.01s/it]0\n",
      "Average Metric: 17.00 / 21 (81.0%):  42%|████▏     | 21/50 [00:36<00:51,  1.78s/it]0\n",
      "Average Metric: 18.00 / 22 (81.8%):  44%|████▍     | 22/50 [00:38<00:51,  1.83s/it]0\n",
      "Average Metric: 19.00 / 23 (82.6%):  46%|████▌     | 23/50 [00:38<00:35,  1.31s/it]0\n",
      "Average Metric: 20.00 / 24 (83.3%):  48%|████▊     | 24/50 [00:40<00:36,  1.41s/it]0\n",
      "Average Metric: 21.00 / 25 (84.0%):  50%|█████     | 25/50 [00:43<00:50,  2.03s/it]0\n",
      "Average Metric: 21.00 / 26 (80.8%):  52%|█████▏    | 26/50 [00:43<00:36,  1.51s/it]0\n",
      "Average Metric: 22.00 / 27 (81.5%):  54%|█████▍    | 27/50 [00:45<00:38,  1.66s/it]0\n",
      "Average Metric: 22.00 / 28 (78.6%):  56%|█████▌    | 28/50 [00:47<00:34,  1.57s/it]0\n",
      "Average Metric: 23.00 / 29 (79.3%):  58%|█████▊    | 29/50 [00:49<00:38,  1.81s/it]0\n",
      "Average Metric: 24.00 / 30 (80.0%):  60%|██████    | 30/50 [00:51<00:33,  1.70s/it]0\n",
      "Average Metric: 24.00 / 31 (77.4%):  62%|██████▏   | 31/50 [00:52<00:27,  1.46s/it]0\n",
      "Average Metric: 24.00 / 32 (75.0%):  64%|██████▍   | 32/50 [00:53<00:23,  1.30s/it]0\n",
      "Average Metric: 24.00 / 33 (72.7%):  66%|██████▌   | 33/50 [00:57<00:36,  2.16s/it]0\n",
      "Average Metric: 25.00 / 34 (73.5%):  68%|██████▊   | 34/50 [00:58<00:28,  1.80s/it]0\n",
      "Average Metric: 26.00 / 35 (74.3%):  70%|███████   | 35/50 [00:58<00:22,  1.50s/it]0\n",
      "Average Metric: 26.00 / 36 (72.2%):  72%|███████▏  | 36/50 [01:03<00:35,  2.56s/it]1\n",
      "Average Metric: 27.00 / 37 (73.0%):  72%|███████▏  | 36/50 [01:04<00:35,  2.56s/it]0\n",
      "Average Metric: 28.00 / 38 (73.7%):  76%|███████▌  | 38/50 [01:07<00:26,  2.23s/it]1\n",
      "Average Metric: 28.00 / 39 (71.8%):  78%|███████▊  | 39/50 [01:08<00:20,  1.91s/it]1\n",
      "Average Metric: 29.00 / 40 (72.5%):  80%|████████  | 40/50 [01:08<00:14,  1.49s/it]0\n",
      "Average Metric: 29.00 / 41 (70.7%):  82%|████████▏ | 41/50 [01:09<00:12,  1.36s/it]1\n",
      "Average Metric: 29.00 / 42 (69.0%):  84%|████████▍ | 42/50 [01:13<00:14,  1.87s/it]1\n",
      "Average Metric: 30.00 / 43 (69.8%):  86%|████████▌ | 43/50 [01:14<00:11,  1.68s/it]1\n",
      "Average Metric: 31.00 / 44 (70.5%):  88%|████████▊ | 44/50 [01:15<00:09,  1.52s/it]1\n",
      "Average Metric: 32.00 / 45 (71.1%):  90%|█████████ | 45/50 [01:18<00:09,  1.83s/it]1\n",
      "Average Metric: 32.00 / 46 (69.6%):  92%|█████████▏| 46/50 [01:19<00:06,  1.68s/it]1\n",
      "Average Metric: 33.00 / 47 (70.2%):  94%|█████████▍| 47/50 [01:21<00:05,  1.85s/it]1\n",
      "Average Metric: 33.00 / 48 (68.8%):  96%|█████████▌| 48/50 [01:25<00:04,  2.33s/it]1\n",
      "Average Metric: 33.00 / 49 (67.3%):  98%|█████████▊| 49/50 [01:25<00:01,  1.73s/it]1\n",
      "Average Metric: 34.00 / 50 (68.0%): 100%|██████████| 50/50 [01:29<00:00,  1.80s/it]"
     ]
    },
    {
     "name": "stderr",
     "output_type": "stream",
     "text": [
      "2025/08/05 17:29:58 INFO dspy.evaluate.evaluate: Average Metric: 34 / 50 (68.0%)\n"
     ]
    },
    {
     "name": "stdout",
     "output_type": "stream",
     "text": [
      "\n",
      "Scores so far: [68.0, 60.0, 68.0, 68.0, 58.0, 60.0, 72.0, 72.0, 64.0, 62.0, 64.0, 68.0]\n",
      "Best score so far: 72.0\n"
     ]
    },
    {
     "name": "stderr",
     "output_type": "stream",
     "text": [
      "  2%|▏         | 1/50 [00:06<05:16,  6.47s/it]"
     ]
    },
    {
     "name": "stdout",
     "output_type": "stream",
     "text": [
      "1\n"
     ]
    },
    {
     "name": "stderr",
     "output_type": "stream",
     "text": [
      "  4%|▍         | 2/50 [00:15<06:33,  8.19s/it]"
     ]
    },
    {
     "name": "stdout",
     "output_type": "stream",
     "text": [
      "0\n"
     ]
    },
    {
     "name": "stderr",
     "output_type": "stream",
     "text": [
      "  6%|▌         | 3/50 [00:21<05:28,  6.99s/it]"
     ]
    },
    {
     "name": "stdout",
     "output_type": "stream",
     "text": [
      "0\n"
     ]
    },
    {
     "name": "stderr",
     "output_type": "stream",
     "text": [
      "  8%|▊         | 4/50 [00:28<05:21,  6.99s/it]"
     ]
    },
    {
     "name": "stdout",
     "output_type": "stream",
     "text": [
      "0\n"
     ]
    },
    {
     "name": "stderr",
     "output_type": "stream",
     "text": [
      " 10%|█         | 5/50 [00:36<05:33,  7.41s/it]"
     ]
    },
    {
     "name": "stdout",
     "output_type": "stream",
     "text": [
      "1\n"
     ]
    },
    {
     "name": "stderr",
     "output_type": "stream",
     "text": [
      " 12%|█▏        | 6/50 [00:43<05:17,  7.22s/it]"
     ]
    },
    {
     "name": "stdout",
     "output_type": "stream",
     "text": [
      "0\n"
     ]
    },
    {
     "name": "stderr",
     "output_type": "stream",
     "text": [
      " 14%|█▍        | 7/50 [00:48<04:42,  6.57s/it]"
     ]
    },
    {
     "name": "stdout",
     "output_type": "stream",
     "text": [
      "0\n"
     ]
    },
    {
     "name": "stderr",
     "output_type": "stream",
     "text": [
      " 16%|█▌        | 8/50 [00:53<04:43,  6.75s/it]\n"
     ]
    },
    {
     "name": "stdout",
     "output_type": "stream",
     "text": [
      "0\n",
      "Bootstrapped 4 full traces after 8 examples for up to 1 rounds, amounting to 8 attempts.\n",
      "  0%|          | 0/50 [00:00<?, ?it/s]0\n",
      "Average Metric: 1.00 / 1 (100.0%):   2%|▏         | 1/50 [00:05<04:44,  5.80s/it]0\n",
      "Average Metric: 2.00 / 2 (100.0%):   4%|▍         | 2/50 [00:06<02:03,  2.58s/it]0\n",
      "Average Metric: 3.00 / 3 (100.0%):   6%|▌         | 3/50 [00:06<01:14,  1.58s/it]0\n",
      "Average Metric: 4.00 / 4 (100.0%):   8%|▊         | 4/50 [00:08<01:17,  1.68s/it]0\n",
      "Average Metric: 5.00 / 5 (100.0%):  10%|█         | 5/50 [00:11<01:36,  2.15s/it]0\n",
      "Average Metric: 6.00 / 6 (100.0%):  12%|█▏        | 6/50 [00:13<01:28,  2.01s/it]0\n",
      "Average Metric: 7.00 / 7 (100.0%):  14%|█▍        | 7/50 [00:14<01:12,  1.69s/it]0\n",
      "Average Metric: 8.00 / 8 (100.0%):  16%|█▌        | 8/50 [00:15<01:05,  1.57s/it]0\n",
      "Average Metric: 9.00 / 9 (100.0%):  18%|█▊        | 9/50 [00:17<01:07,  1.66s/it]0\n",
      "Average Metric: 10.00 / 10 (100.0%):  20%|██        | 10/50 [00:17<00:54,  1.37s/it]0\n",
      "Average Metric: 10.00 / 11 (90.9%):  22%|██▏       | 11/50 [00:19<00:49,  1.26s/it] 0\n",
      "Average Metric: 11.00 / 12 (91.7%):  24%|██▍       | 12/50 [00:19<00:43,  1.16s/it]0\n",
      "Average Metric: 12.00 / 13 (92.3%):  26%|██▌       | 13/50 [00:22<01:00,  1.63s/it]0\n",
      "Average Metric: 12.00 / 14 (85.7%):  28%|██▊       | 14/50 [00:24<00:59,  1.65s/it]0\n",
      "Average Metric: 13.00 / 15 (86.7%):  30%|███       | 15/50 [00:25<00:50,  1.43s/it]0\n",
      "Average Metric: 14.00 / 16 (87.5%):  32%|███▏      | 16/50 [00:25<00:38,  1.12s/it]0\n",
      "Average Metric: 14.00 / 17 (82.4%):  34%|███▍      | 17/50 [00:29<01:00,  1.82s/it]0\n",
      "Average Metric: 15.00 / 18 (83.3%):  36%|███▌      | 18/50 [00:30<00:55,  1.74s/it]0\n",
      "Average Metric: 16.00 / 19 (84.2%):  38%|███▊      | 19/50 [00:30<00:39,  1.27s/it]0\n",
      "Average Metric: 16.00 / 20 (80.0%):  40%|████      | 20/50 [00:32<00:37,  1.24s/it]0\n",
      "Average Metric: 17.00 / 21 (81.0%):  42%|████▏     | 21/50 [00:34<00:45,  1.58s/it]0\n",
      "Average Metric: 17.00 / 22 (77.3%):  44%|████▍     | 22/50 [00:37<00:55,  1.99s/it]0\n",
      "Average Metric: 18.00 / 23 (78.3%):  46%|████▌     | 23/50 [00:37<00:40,  1.49s/it]0\n",
      "Average Metric: 19.00 / 24 (79.2%):  48%|████▊     | 24/50 [00:38<00:34,  1.34s/it]0\n",
      "Average Metric: 19.00 / 25 (76.0%):  50%|█████     | 25/50 [00:40<00:33,  1.34s/it]0\n",
      "Average Metric: 20.00 / 26 (76.9%):  52%|█████▏    | 26/50 [00:41<00:35,  1.49s/it]0\n",
      "Average Metric: 20.00 / 27 (74.1%):  54%|█████▍    | 27/50 [00:44<00:43,  1.87s/it]0\n",
      "Average Metric: 21.00 / 28 (75.0%):  56%|█████▌    | 28/50 [00:46<00:38,  1.74s/it]0\n",
      "Average Metric: 22.00 / 29 (75.9%):  58%|█████▊    | 29/50 [00:48<00:40,  1.95s/it]0\n",
      "Average Metric: 22.00 / 30 (73.3%):  60%|██████    | 30/50 [00:50<00:38,  1.93s/it]0\n",
      "Average Metric: 22.00 / 31 (71.0%):  62%|██████▏   | 31/50 [00:51<00:30,  1.62s/it]0\n",
      "Average Metric: 22.00 / 32 (68.8%):  64%|██████▍   | 32/50 [00:54<00:35,  1.97s/it]0\n",
      "Average Metric: 23.00 / 33 (69.7%):  66%|██████▌   | 33/50 [00:58<00:45,  2.67s/it]0\n",
      "Average Metric: 24.00 / 34 (70.6%):  68%|██████▊   | 34/50 [00:59<00:34,  2.14s/it]0\n",
      "Average Metric: 24.00 / 35 (68.6%):  68%|██████▊   | 34/50 [00:59<00:34,  2.14s/it]0\n",
      "Average Metric: 25.00 / 36 (69.4%):  72%|███████▏  | 36/50 [00:59<00:17,  1.23s/it]1\n",
      "Average Metric: 25.00 / 37 (67.6%):  74%|███████▍  | 37/50 [01:05<00:32,  2.50s/it]0\n",
      "Average Metric: 25.00 / 38 (65.8%):  76%|███████▌  | 38/50 [01:06<00:24,  2.03s/it]1\n",
      "Average Metric: 26.00 / 39 (66.7%):  78%|███████▊  | 39/50 [01:08<00:22,  2.01s/it]0\n",
      "Average Metric: 27.00 / 40 (67.5%):  80%|████████  | 40/50 [01:09<00:18,  1.82s/it]1\n",
      "Average Metric: 28.00 / 41 (68.3%):  82%|████████▏ | 41/50 [01:12<00:17,  1.97s/it]1\n",
      "Average Metric: 28.00 / 42 (66.7%):  84%|████████▍ | 42/50 [01:13<00:13,  1.73s/it]1\n",
      "Average Metric: 29.00 / 43 (67.4%):  86%|████████▌ | 43/50 [01:14<00:11,  1.58s/it]1\n",
      "Average Metric: 30.00 / 44 (68.2%):  88%|████████▊ | 44/50 [01:17<00:11,  1.90s/it]1\n",
      "Average Metric: 31.00 / 45 (68.9%):  90%|█████████ | 45/50 [01:17<00:07,  1.49s/it]1\n",
      "Average Metric: 32.00 / 46 (69.6%):  92%|█████████▏| 46/50 [01:19<00:06,  1.50s/it]1\n",
      "Average Metric: 32.00 / 47 (68.1%):  94%|█████████▍| 47/50 [01:25<00:08,  2.81s/it]1\n",
      "Average Metric: 33.00 / 48 (68.8%):  96%|█████████▌| 48/50 [01:25<00:04,  2.04s/it]1\n",
      "Average Metric: 33.00 / 49 (67.3%):  98%|█████████▊| 49/50 [01:27<00:02,  2.14s/it]1\n",
      "Average Metric: 34.00 / 50 (68.0%): 100%|██████████| 50/50 [01:30<00:00,  1.81s/it]"
     ]
    },
    {
     "name": "stderr",
     "output_type": "stream",
     "text": [
      "2025/08/05 17:32:22 INFO dspy.evaluate.evaluate: Average Metric: 34 / 50 (68.0%)\n"
     ]
    },
    {
     "name": "stdout",
     "output_type": "stream",
     "text": [
      "\n",
      "Scores so far: [68.0, 60.0, 68.0, 68.0, 58.0, 60.0, 72.0, 72.0, 64.0, 62.0, 64.0, 68.0, 68.0]\n",
      "Best score so far: 72.0\n",
      "13 candidate programs found.\n"
     ]
    }
   ],
   "source": [
    "\n",
    "#optimizing based on dev-r3\n",
    "\n",
    "dspy.configure_cache(\n",
    "    enable_disk_cache=True,\n",
    "    enable_memory_cache=True,\n",
    ")\n",
    "\n",
    "config = dict(max_bootstrapped_demos=4, max_labeled_demos=4, num_candidate_programs=10, num_threads=4)\n",
    "\n",
    "teleprompter = BootstrapFewShotWithRandomSearch(metric=binary_metrics, **config)\n",
    "optimized_program = teleprompter.compile(classify, trainset=example_trainset)\n",
    "\n"
   ]
  },
  {
   "cell_type": "code",
   "execution_count": null,
   "id": "074e7655",
   "metadata": {},
   "outputs": [],
   "source": [
    "#next on the agenda: \n",
    "#create a list of evaluations - pred/gold labels - on test_r3 ( same as 1.2 baseline)\n",
    "#combine with list made in 1.2 - both pred labels and reasons\n",
    "#Compare the results with the baseline and provide agreement metrics between the two models.\n",
    "#agreement metrics: maybe follow GPT, seems reasonable."
   ]
  }
 ],
 "metadata": {
  "kernelspec": {
   "display_name": "hw2",
   "language": "python",
   "name": "python3"
  },
  "language_info": {
   "codemirror_mode": {
    "name": "ipython",
    "version": 3
   },
   "file_extension": ".py",
   "mimetype": "text/x-python",
   "name": "python",
   "nbconvert_exporter": "python",
   "pygments_lexer": "ipython3",
   "version": "3.11.12"
  }
 },
 "nbformat": 4,
 "nbformat_minor": 5
}
